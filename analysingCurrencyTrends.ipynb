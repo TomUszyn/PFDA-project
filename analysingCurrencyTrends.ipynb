{
 "cells": [
  {
   "cell_type": "markdown",
   "metadata": {},
   "source": [
    "## Project: Analysing Currency Trends."
   ]
  },
  {
   "cell_type": "markdown",
   "metadata": {},
   "source": [
    "***"
   ]
  },
  {
   "cell_type": "markdown",
   "metadata": {},
   "source": [
    "### 1. Data Collection"
   ]
  },
  {
   "cell_type": "markdown",
   "metadata": {},
   "source": [
    "***"
   ]
  },
  {
   "cell_type": "markdown",
   "metadata": {},
   "source": [
    "Importing libraries."
   ]
  },
  {
   "cell_type": "code",
   "execution_count": 1,
   "metadata": {},
   "outputs": [],
   "source": [
    "import yfinance as yf\n",
    "import pandas as pd\n"
   ]
  },
  {
   "cell_type": "markdown",
   "metadata": {},
   "source": [
    "I'm getting data with a 60-minute interval covering 2 years, which is the maximum amount limited by Yahoo Finance. If I'm trying to get more data returned, \"The requested range must be within the last 730 days\"."
   ]
  },
  {
   "cell_type": "markdown",
   "metadata": {},
   "source": [
    "***"
   ]
  },
  {
   "cell_type": "markdown",
   "metadata": {},
   "source": [
    "#### Data related to the United States Dollar currency (USD represent by symbol **$**)."
   ]
  },
  {
   "cell_type": "markdown",
   "metadata": {},
   "source": [
    "Data are taken every hour for 2 years."
   ]
  },
  {
   "cell_type": "code",
   "execution_count": 2,
   "metadata": {},
   "outputs": [
    {
     "name": "stderr",
     "output_type": "stream",
     "text": [
      "[*********************100%***********************]  2 of 2 completed\n"
     ]
    }
   ],
   "source": [
    "# Download USDGBP and USDEUR exchange rates\n",
    "usd2y = yf.download(['USDGBP=X','USDEUR=X'], period='2y', interval='60m', group_by='ticker')\n",
    "# Display the first 3 rows\n",
    "#usd.head(3)"
   ]
  },
  {
   "cell_type": "markdown",
   "metadata": {},
   "source": [
    "Data are taken once a day for 5 years."
   ]
  },
  {
   "cell_type": "code",
   "execution_count": 3,
   "metadata": {},
   "outputs": [
    {
     "name": "stderr",
     "output_type": "stream",
     "text": [
      "[*********************100%***********************]  2 of 2 completed\n"
     ]
    }
   ],
   "source": [
    "# Download USDGBP and USDEUR exchange rates\n",
    "usd5y = yf.download(['USDGBP=X','USDEUR=X'], period='5y', interval='1d', group_by='ticker')\n",
    "# Display the first 3 rows\n",
    "#usd5y.head(3)"
   ]
  },
  {
   "cell_type": "markdown",
   "metadata": {},
   "source": [
    "Data are taken every 5 minutes for 5 days."
   ]
  },
  {
   "cell_type": "code",
   "execution_count": 4,
   "metadata": {},
   "outputs": [
    {
     "name": "stderr",
     "output_type": "stream",
     "text": [
      "[*********************100%***********************]  2 of 2 completed\n"
     ]
    }
   ],
   "source": [
    "# Download USDGBP and USDEUR exchange rates\n",
    "usd5d = yf.download(['USDGBP=X','USDEUR=X'], period='5d', interval='5m', group_by='ticker')\n",
    "# Display the first 3 rows\n",
    "#usd5d.head(3)"
   ]
  },
  {
   "cell_type": "markdown",
   "metadata": {},
   "source": [
    "***"
   ]
  },
  {
   "cell_type": "markdown",
   "metadata": {},
   "source": [
    "#### Data related to the Great British Pound (often referred to simply as the British Pounds) currency (GBP represent by symbol **£**)."
   ]
  },
  {
   "cell_type": "markdown",
   "metadata": {},
   "source": [
    "Data are taken every hour for 2 years."
   ]
  },
  {
   "cell_type": "code",
   "execution_count": 5,
   "metadata": {},
   "outputs": [
    {
     "name": "stderr",
     "output_type": "stream",
     "text": [
      "[*********************100%***********************]  2 of 2 completed\n"
     ]
    }
   ],
   "source": [
    "# Download GBPUSD and GBPEUR exchange rates\n",
    "gbp2y = yf.download(['GBPUSD=X', 'GBPEUR=X'], period='2y', interval='60m', group_by='ticker')\n",
    "# Display the first 3 rows\n",
    "#gbp2y.head(3)"
   ]
  },
  {
   "cell_type": "markdown",
   "metadata": {},
   "source": [
    "Data are taken once a day for 5 years."
   ]
  },
  {
   "cell_type": "code",
   "execution_count": 6,
   "metadata": {},
   "outputs": [
    {
     "name": "stderr",
     "output_type": "stream",
     "text": [
      "[*********************100%***********************]  2 of 2 completed\n"
     ]
    }
   ],
   "source": [
    "# Download GBPUSD and GBPEUR exchange rates\n",
    "gbp5y = yf.download(['GBPUSD=X', 'GBPEUR=X'], period='5y', interval='1d', group_by='ticker')\n",
    "# Display the first 3 rows\n",
    "#gbp5y.head(3)"
   ]
  },
  {
   "cell_type": "markdown",
   "metadata": {},
   "source": [
    "Data are taken every 5 minutes for 5 days."
   ]
  },
  {
   "cell_type": "code",
   "execution_count": 7,
   "metadata": {},
   "outputs": [
    {
     "name": "stderr",
     "output_type": "stream",
     "text": [
      "[*********************100%***********************]  2 of 2 completed\n"
     ]
    }
   ],
   "source": [
    "# Download GBPUSD and GBPEUR exchange rates\n",
    "gbp5d = yf.download(['GBPUSD=X', 'GBPEUR=X'], period='5d', interval='5m', group_by='ticker')\n",
    "# Display the first 3 rows\n",
    "#gbp5d.head(3)"
   ]
  },
  {
   "cell_type": "markdown",
   "metadata": {},
   "source": [
    "***"
   ]
  },
  {
   "cell_type": "markdown",
   "metadata": {},
   "source": [
    "#### Data related to official currency of the Eurozone knows as Euro currency (EUR: represent by **€**). "
   ]
  },
  {
   "cell_type": "markdown",
   "metadata": {},
   "source": [
    "Data are taken every hour for 2 years."
   ]
  },
  {
   "cell_type": "code",
   "execution_count": 8,
   "metadata": {},
   "outputs": [
    {
     "name": "stderr",
     "output_type": "stream",
     "text": [
      "[*********************100%***********************]  2 of 2 completed\n"
     ]
    }
   ],
   "source": [
    "# Download EURUSD and EURGBP exchange rates\n",
    "eur2y = yf.download(['EURUSD=X', 'EURGBP=X'], period='2y', interval='60m', group_by='ticker')\n",
    "# Display the first 3 rows\n",
    "#eur2y.head(3)\n"
   ]
  },
  {
   "cell_type": "markdown",
   "metadata": {},
   "source": [
    "Data are taken once a day for 5 years."
   ]
  },
  {
   "cell_type": "code",
   "execution_count": 9,
   "metadata": {},
   "outputs": [
    {
     "name": "stderr",
     "output_type": "stream",
     "text": [
      "[*********************100%***********************]  2 of 2 completed\n"
     ]
    }
   ],
   "source": [
    "# Download EURUSD and EURGBP exchange rates\n",
    "eur5y = yf.download(['EURUSD=X', 'EURGBP=X'], period='5y', interval='1d', group_by='ticker')\n",
    "# Display the first 3 rows\n",
    "#eur5y.head(3)\n"
   ]
  },
  {
   "cell_type": "markdown",
   "metadata": {},
   "source": [
    "Data are taken every 5 minutes for 5 days."
   ]
  },
  {
   "cell_type": "code",
   "execution_count": 10,
   "metadata": {},
   "outputs": [
    {
     "name": "stderr",
     "output_type": "stream",
     "text": [
      "[*********************100%***********************]  2 of 2 completed\n"
     ]
    }
   ],
   "source": [
    "# Download EURUSD and EURGBP exchange rates\n",
    "eur5d = yf.download(['EURUSD=X', 'EURGBP=X'], period='5d', interval='5m', group_by='ticker')\n",
    "# Display the first 3 rows\n",
    "#eur5d.head(3)\n"
   ]
  },
  {
   "cell_type": "markdown",
   "metadata": {},
   "source": [
    "***"
   ]
  },
  {
   "cell_type": "markdown",
   "metadata": {},
   "source": [
    "#### Data related to the Bitcoin cryptocurrency (BTC represented by symbol **₿**)"
   ]
  },
  {
   "cell_type": "markdown",
   "metadata": {},
   "source": [
    "Data are taken every hour for 2 years."
   ]
  },
  {
   "cell_type": "code",
   "execution_count": 11,
   "metadata": {},
   "outputs": [
    {
     "name": "stderr",
     "output_type": "stream",
     "text": [
      "[*********************100%***********************]  3 of 3 completed\n"
     ]
    }
   ],
   "source": [
    "# Dowlnoad BTC-USD, BTC-GBP and BTC-EUR exchange rates\n",
    "btc2y = yf.download(['BTC-USD', 'BTC-GBP', 'BTC-EUR'], period='2y', interval='60m', group_by='ticker')\n",
    "# Display the first 3 rows\n",
    "#btc2y.head(3)\n"
   ]
  },
  {
   "cell_type": "markdown",
   "metadata": {},
   "source": [
    "Data are taken once a day for 5 years."
   ]
  },
  {
   "cell_type": "code",
   "execution_count": 12,
   "metadata": {},
   "outputs": [
    {
     "name": "stderr",
     "output_type": "stream",
     "text": [
      "[*********************100%***********************]  3 of 3 completed\n"
     ]
    }
   ],
   "source": [
    "# Dowlnoad BTC-USD, BTC-GBP and BTC-EUR exchange rates\n",
    "btc5y = yf.download(['BTC-USD', 'BTC-GBP', 'BTC-EUR'], period='5y', interval='1d', group_by='ticker')\n",
    "# Display the first 3 rows\n",
    "#btc5y.head(3)\n"
   ]
  },
  {
   "cell_type": "markdown",
   "metadata": {},
   "source": [
    "Data are taken every 5 minutes for 5 days."
   ]
  },
  {
   "cell_type": "code",
   "execution_count": 13,
   "metadata": {},
   "outputs": [
    {
     "name": "stderr",
     "output_type": "stream",
     "text": [
      "[*********************100%***********************]  3 of 3 completed\n"
     ]
    }
   ],
   "source": [
    "# Dowlnoad BTC-USD, BTC-GBP and BTC-EUR exchange rates\n",
    "btc5d = yf.download(['BTC-USD', 'BTC-GBP', 'BTC-EUR'], period='5d', interval='5m', group_by='ticker')\n",
    "# Display the first 3 rows\n",
    "#btc5d.head(3)\n"
   ]
  },
  {
   "cell_type": "markdown",
   "metadata": {},
   "source": [
    "Understanding collected data is kind of important. We can identify columns called:\n",
    "* Open: Price at the start of the trading period.\n",
    "* High: Highest price during the trading period.\n",
    "* Low: Lowest price during the trading period.\n",
    "* Close: Price at the end of the trading period.\n",
    "* Adj Close: Close price adjusted for events like splits or dividends (not relevant in this case).\n",
    "* Volume: Total amount of the asset traded during the period."
   ]
  },
  {
   "cell_type": "markdown",
   "metadata": {},
   "source": [
    "Display the first 3 row are commented out and was use only to check Data Frame and discover column names."
   ]
  },
  {
   "cell_type": "markdown",
   "metadata": {},
   "source": [
    "***"
   ]
  },
  {
   "cell_type": "markdown",
   "metadata": {},
   "source": [
    "### 2. Data Cleaning"
   ]
  },
  {
   "cell_type": "markdown",
   "metadata": {},
   "source": [
    "I chose to analyse OHLC data (Open, High, Low, Close) because it provides a comprehensive view of price movements, which is essential for identifying market trends and making informed trading decisions.\n",
    "\n",
    "I will omit other data, such as volume or adjusted close, as they are less relevant for understanding price action and trend analysis. After examining the data, it is clear that the Adj Close column contains the same values as the Close column, and the Volume column is empty."
   ]
  },
  {
   "cell_type": "markdown",
   "metadata": {},
   "source": []
  },
  {
   "cell_type": "code",
   "execution_count": 14,
   "metadata": {},
   "outputs": [],
   "source": [
    "# Formatting Data Frames for easier manipulation \n",
    "usd2y = usd2y.drop(columns=[('USDGBP=X', 'Adj Close'), ('USDGBP=X', 'Volume'),('USDEUR=X', 'Adj Close'),('USDEUR=X','Volume')])\n",
    "eur2y = eur2y.drop(columns=[('EURUSD=X', 'Adj Close'),('EURUSD=X', 'Volume'),('EURGBP=X', 'Adj Close'), ('EURGBP=X', 'Volume')])\n",
    "gbp2y = gbp2y.drop(columns=[('GBPUSD=X', 'Adj Close'),('GBPUSD=X', 'Volume'),('GBPEUR=X', 'Adj Close'), ('GBPEUR=X', 'Volume')])\n",
    "\n",
    "usd5y = usd5y.drop(columns=[('USDGBP=X', 'Adj Close'), ('USDGBP=X', 'Volume'),('USDEUR=X', 'Adj Close'),('USDEUR=X','Volume')])\n",
    "eur5y = eur5y.drop(columns=[('EURUSD=X', 'Adj Close'),('EURUSD=X', 'Volume'),('EURGBP=X', 'Adj Close'), ('EURGBP=X', 'Volume')])\n",
    "gbp5y = gbp5y.drop(columns=[('GBPUSD=X', 'Adj Close'),('GBPUSD=X', 'Volume'),('GBPEUR=X', 'Adj Close'), ('GBPEUR=X', 'Volume')])\n",
    "\n",
    "usd5d = usd5d.drop(columns=[('USDGBP=X', 'Adj Close'), ('USDGBP=X', 'Volume'),('USDEUR=X', 'Adj Close'),('USDEUR=X','Volume')])\n",
    "eur5d = eur5d.drop(columns=[('EURUSD=X', 'Adj Close'),('EURUSD=X', 'Volume'),('EURGBP=X', 'Adj Close'), ('EURGBP=X', 'Volume')])\n",
    "gbp5d = gbp5d.drop(columns=[('GBPUSD=X', 'Adj Close'),('GBPUSD=X', 'Volume'),('GBPEUR=X', 'Adj Close'), ('GBPEUR=X', 'Volume')])\n",
    "\n",
    "btc2y = btc2y.drop(columns=[('BTC-USD', 'Adj Close'), ('BTC-USD', 'Volume'),('BTC-GBP', 'Adj Close'),('BTC-GBP','Volume'),('BTC-EUR', 'Adj Close'),('BTC-EUR','Volume')])\n",
    "btc5y = btc5y.drop(columns=[('BTC-USD', 'Adj Close'), ('BTC-USD', 'Volume'),('BTC-GBP', 'Adj Close'),('BTC-GBP','Volume'),('BTC-EUR', 'Adj Close'),('BTC-EUR','Volume')])\n",
    "btc5d = btc5d.drop(columns=[('BTC-USD', 'Adj Close'), ('BTC-USD', 'Volume'),('BTC-GBP', 'Adj Close'),('BTC-GBP','Volume'),('BTC-EUR', 'Adj Close'),('BTC-EUR','Volume')])"
   ]
  },
  {
   "cell_type": "code",
   "execution_count": 16,
   "metadata": {},
   "outputs": [],
   "source": [
    "# Merge the DataFrames using 'Datetime' column\n",
    "mergedFiatCurrencies2y = pd.merge(usd2y, eur2y, how='outer', on='Datetime', suffixes=('_USD', '_EUR'))\n",
    "mergedFiatCurrencies2y = pd.merge(mergedFiatCurrencies2y, gbp2y, how='outer', on='Datetime', suffixes=('_EUR', '_GBP'))\n",
    "\n",
    "#mergedFiatCurrencies5y = pd.merge(usd5y, eur5y, how='outer', on='Datetime', suffixes=('_USD', '_EUR'))\n",
    "#mergedFiatCurrencies5y = pd.merge(mergedFiatCurrencies5y, gbp5y, how='outer', on='Datetime', suffixes=('_EUR', '_GBP'))\n",
    "\n",
    "mergedFiatCurrencies5d = pd.merge(usd5d, eur5d, how='outer', on='Datetime', suffixes=('_USD', '_EUR'))\n",
    "mergedFiatCurrencies5d = pd.merge(mergedFiatCurrencies5d, gbp5d, how='outer', on='Datetime', suffixes=('_EUR', '_GBP'))\n",
    "\n",
    "mergedFiatCurrencies5y = pd.merge(usd5y, eur5y, how='outer', left_index=True, right_index=True, suffixes=('_USD', '_EUR'))\n",
    "mergedFiatCurrencies5y = pd.merge(mergedFiatCurrencies5y, gbp5y, how='outer', left_index=True, right_index=True, suffixes=('_EUR', '_GBP'))\n"
   ]
  },
  {
   "cell_type": "code",
   "execution_count": null,
   "metadata": {},
   "outputs": [
    {
     "name": "stdout",
     "output_type": "stream",
     "text": [
      "Data merged and saved to 'mergedFiatCurrencies2y.csv'\n"
     ]
    }
   ],
   "source": [
    "# Fill missing values using forward fill (ffill) method\n",
    "mergedFiatCurrencies2y = mergedFiatCurrencies2y.ffill()\n",
    "\n",
    "# Save the merged DataFrame to a CSV file\n",
    "mergedFiatCurrencies2y.to_csv('data/csv/mergedFiatCurrencies2y.csv', index=False)\n",
    "\n",
    "print(\"Data merged and saved to 'mergedFiatCurrencies2y.csv'\")\n"
   ]
  },
  {
   "cell_type": "code",
   "execution_count": null,
   "metadata": {},
   "outputs": [
    {
     "name": "stdout",
     "output_type": "stream",
     "text": [
      "Missing values in merged data:\n",
      "Ticker    Price\n",
      "USDEUR=X  Open     0\n",
      "          High     0\n",
      "          Low      0\n",
      "          Close    0\n",
      "USDGBP=X  Open     0\n",
      "          High     0\n",
      "          Low      0\n",
      "          Close    0\n",
      "EURUSD=X  Open     0\n",
      "          High     0\n",
      "          Low      0\n",
      "          Close    0\n",
      "EURGBP=X  Open     0\n",
      "          High     0\n",
      "          Low      0\n",
      "          Close    0\n",
      "dtype: int64\n"
     ]
    }
   ],
   "source": [
    "# Checking for missing values after filling\n",
    "print(\"Missing values in merged data:\")\n",
    "print(mergedFiatCurrencies2y.isnull().sum())"
   ]
  }
 ],
 "metadata": {
  "kernelspec": {
   "display_name": "base",
   "language": "python",
   "name": "python3"
  },
  "language_info": {
   "codemirror_mode": {
    "name": "ipython",
    "version": 3
   },
   "file_extension": ".py",
   "mimetype": "text/x-python",
   "name": "python",
   "nbconvert_exporter": "python",
   "pygments_lexer": "ipython3",
   "version": "3.12.4"
  }
 },
 "nbformat": 4,
 "nbformat_minor": 2
}
