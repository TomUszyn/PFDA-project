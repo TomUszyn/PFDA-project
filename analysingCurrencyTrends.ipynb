{
 "cells": [
  {
   "cell_type": "markdown",
   "metadata": {},
   "source": [
    "## Project: Analysing Currency Trends (based on Bitcoin, USD, GBP in relation to Euro)."
   ]
  },
  {
   "cell_type": "markdown",
   "metadata": {},
   "source": [
    "***"
   ]
  },
  {
   "cell_type": "markdown",
   "metadata": {},
   "source": [
    "### 1. Data Collection"
   ]
  },
  {
   "cell_type": "markdown",
   "metadata": {},
   "source": [
    "***"
   ]
  },
  {
   "cell_type": "markdown",
   "metadata": {},
   "source": [
    "Importing libraries."
   ]
  },
  {
   "cell_type": "code",
   "execution_count": 1,
   "metadata": {},
   "outputs": [],
   "source": [
    "import yfinance as yf\n",
    "import pandas as pd\n",
    "import sqlite3\n",
    "import matplotlib.pyplot as plt\n",
    "from sklearn import preprocessing\n",
    "from sklearn.preprocessing import StandardScaler\n",
    "from matplotlib import font_manager\n",
    "import warnings\n",
    "import logging\n",
    "from fuctions import *\n",
    "#from fuctions import flattenColumns"
   ]
  },
  {
   "cell_type": "markdown",
   "metadata": {},
   "source": [
    "The Yahoo Finance API is known to have several limitations. Error messages returned by the API provide information on correctly fetching specific data. The most suitable data for the project was selected based on a particular time range and granularity. This selection was influenced by data availability and demand. Attempts to retrieve large volumes of data across different periods to expand the dataset were unsuccessful due to strict API limitations. The constraints dictate that data must be retrieved from today's date and are dependent on specific API parameters. Consequently, the data was broken into smaller chunks to prevent any loss of information."
   ]
  },
  {
   "cell_type": "markdown",
   "metadata": {},
   "source": [
    "A function was added to log any warnings that may occur during the execution of the script. This function logs warnings to a file, facilitating debugging in case any warnings arise."
   ]
  },
  {
   "cell_type": "code",
   "execution_count": 2,
   "metadata": {},
   "outputs": [],
   "source": [
    "warnings.showwarning = logWarning"
   ]
  },
  {
   "cell_type": "markdown",
   "metadata": {},
   "source": [
    "Here is a few examples entry from the log file to help understand the syntax of the Yahoo Finance API interface:\n",
    "\n",
    "```log File\n",
    "YFPricesMissingError('$%ticker%: possibly delisted; no price data found  (period=2y) (Yahoo error = \"Invalid input - interval=50m is not supported. Valid intervals: [1m, 2m, 5m, 15m, 30m, 60m, 90m, 1h, 1d, 5d, 1wk, 1mo, 3mo]\")')\n",
    "\n",
    "YFPricesMissingError('$%ticker%: possibly delisted; no price data found  (period=2y) (Yahoo error = \"15m data not available for startTime=1671481488 and endTime=1734553488. The requested range must be within the last 60 days.\")')\n",
    "```"
   ]
  },
  {
   "cell_type": "markdown",
   "metadata": {},
   "source": [
    "***"
   ]
  },
  {
   "cell_type": "markdown",
   "metadata": {},
   "source": [
    "Downloading exchange rate USD to EUR represented by USDEUR=X and GBP to EUR represented by GBPEUR=X."
   ]
  },
  {
   "cell_type": "code",
   "execution_count": 3,
   "metadata": {},
   "outputs": [
    {
     "name": "stderr",
     "output_type": "stream",
     "text": [
      "[*********************100%***********************]  2 of 2 completed\n",
      "[*********************100%***********************]  2 of 2 completed\n",
      "[*********************100%***********************]  2 of 2 completed\n"
     ]
    },
    {
     "data": {
      "text/html": [
       "<div>\n",
       "<style scoped>\n",
       "    .dataframe tbody tr th:only-of-type {\n",
       "        vertical-align: middle;\n",
       "    }\n",
       "\n",
       "    .dataframe tbody tr th {\n",
       "        vertical-align: top;\n",
       "    }\n",
       "\n",
       "    .dataframe thead tr th {\n",
       "        text-align: left;\n",
       "    }\n",
       "\n",
       "    .dataframe thead tr:last-of-type th {\n",
       "        text-align: right;\n",
       "    }\n",
       "</style>\n",
       "<table border=\"1\" class=\"dataframe\">\n",
       "  <thead>\n",
       "    <tr>\n",
       "      <th>Ticker</th>\n",
       "      <th colspan=\"6\" halign=\"left\">GBPEUR=X</th>\n",
       "      <th colspan=\"6\" halign=\"left\">USDEUR=X</th>\n",
       "    </tr>\n",
       "    <tr>\n",
       "      <th>Price</th>\n",
       "      <th>Open</th>\n",
       "      <th>High</th>\n",
       "      <th>Low</th>\n",
       "      <th>Close</th>\n",
       "      <th>Adj Close</th>\n",
       "      <th>Volume</th>\n",
       "      <th>Open</th>\n",
       "      <th>High</th>\n",
       "      <th>Low</th>\n",
       "      <th>Close</th>\n",
       "      <th>Adj Close</th>\n",
       "      <th>Volume</th>\n",
       "    </tr>\n",
       "    <tr>\n",
       "      <th>Datetime</th>\n",
       "      <th></th>\n",
       "      <th></th>\n",
       "      <th></th>\n",
       "      <th></th>\n",
       "      <th></th>\n",
       "      <th></th>\n",
       "      <th></th>\n",
       "      <th></th>\n",
       "      <th></th>\n",
       "      <th></th>\n",
       "      <th></th>\n",
       "      <th></th>\n",
       "    </tr>\n",
       "  </thead>\n",
       "  <tbody>\n",
       "    <tr>\n",
       "      <th>2024-12-23 00:00:00+00:00</th>\n",
       "      <td>1.20467</td>\n",
       "      <td>1.20484</td>\n",
       "      <td>1.2044</td>\n",
       "      <td>1.20478</td>\n",
       "      <td>1.20478</td>\n",
       "      <td>0.0</td>\n",
       "      <td>0.9581</td>\n",
       "      <td>0.9581</td>\n",
       "      <td>0.958</td>\n",
       "      <td>0.9581</td>\n",
       "      <td>0.9581</td>\n",
       "      <td>0.0</td>\n",
       "    </tr>\n",
       "    <tr>\n",
       "      <th>2024-12-23 00:05:00+00:00</th>\n",
       "      <td>1.20487</td>\n",
       "      <td>1.20496</td>\n",
       "      <td>1.2046</td>\n",
       "      <td>1.20493</td>\n",
       "      <td>1.20493</td>\n",
       "      <td>0.0</td>\n",
       "      <td>0.9581</td>\n",
       "      <td>0.9581</td>\n",
       "      <td>0.958</td>\n",
       "      <td>0.9580</td>\n",
       "      <td>0.9580</td>\n",
       "      <td>0.0</td>\n",
       "    </tr>\n",
       "  </tbody>\n",
       "</table>\n",
       "</div>"
      ],
      "text/plain": [
       "Ticker                    GBPEUR=X                                             \\\n",
       "Price                         Open     High     Low    Close Adj Close Volume   \n",
       "Datetime                                                                        \n",
       "2024-12-23 00:00:00+00:00  1.20467  1.20484  1.2044  1.20478   1.20478    0.0   \n",
       "2024-12-23 00:05:00+00:00  1.20487  1.20496  1.2046  1.20493   1.20493    0.0   \n",
       "\n",
       "Ticker                    USDEUR=X                                          \n",
       "Price                         Open    High    Low   Close Adj Close Volume  \n",
       "Datetime                                                                    \n",
       "2024-12-23 00:00:00+00:00   0.9581  0.9581  0.958  0.9581    0.9581    0.0  \n",
       "2024-12-23 00:05:00+00:00   0.9581  0.9581  0.958  0.9580    0.9580    0.0  "
      ]
     },
     "execution_count": 3,
     "metadata": {},
     "output_type": "execute_result"
    }
   ],
   "source": [
    "# Download USD/EUR and GBP/EUR exchange rates\n",
    "eur2yraw = yf.download(['USDEUR=X', 'GBPEUR=X'], period='2y', interval='60m', group_by='ticker')\n",
    "eur5yraw = yf.download(['USDEUR=X', 'GBPEUR=X'], period='5y', interval='1d', group_by='ticker')\n",
    "eur5draw = yf.download(['USDEUR=X', 'GBPEUR=X'], period='5d', interval='5m', group_by='ticker')\n",
    "\n",
    "eur5draw.head(2)"
   ]
  },
  {
   "cell_type": "markdown",
   "metadata": {},
   "source": [
    "Downloading exchange rate BTC to EUR represented by BTC-EUR."
   ]
  },
  {
   "cell_type": "code",
   "execution_count": 4,
   "metadata": {},
   "outputs": [
    {
     "name": "stderr",
     "output_type": "stream",
     "text": [
      "[*********************100%***********************]  1 of 1 completed\n",
      "[*********************100%***********************]  1 of 1 completed\n",
      "[*********************100%***********************]  1 of 1 completed\n"
     ]
    },
    {
     "data": {
      "text/html": [
       "<div>\n",
       "<style scoped>\n",
       "    .dataframe tbody tr th:only-of-type {\n",
       "        vertical-align: middle;\n",
       "    }\n",
       "\n",
       "    .dataframe tbody tr th {\n",
       "        vertical-align: top;\n",
       "    }\n",
       "\n",
       "    .dataframe thead tr th {\n",
       "        text-align: left;\n",
       "    }\n",
       "\n",
       "    .dataframe thead tr:last-of-type th {\n",
       "        text-align: right;\n",
       "    }\n",
       "</style>\n",
       "<table border=\"1\" class=\"dataframe\">\n",
       "  <thead>\n",
       "    <tr>\n",
       "      <th>Price</th>\n",
       "      <th>Adj Close</th>\n",
       "      <th>Close</th>\n",
       "      <th>High</th>\n",
       "      <th>Low</th>\n",
       "      <th>Open</th>\n",
       "      <th>Volume</th>\n",
       "    </tr>\n",
       "    <tr>\n",
       "      <th>Ticker</th>\n",
       "      <th>BTC-EUR</th>\n",
       "      <th>BTC-EUR</th>\n",
       "      <th>BTC-EUR</th>\n",
       "      <th>BTC-EUR</th>\n",
       "      <th>BTC-EUR</th>\n",
       "      <th>BTC-EUR</th>\n",
       "    </tr>\n",
       "    <tr>\n",
       "      <th>Datetime</th>\n",
       "      <th></th>\n",
       "      <th></th>\n",
       "      <th></th>\n",
       "      <th></th>\n",
       "      <th></th>\n",
       "      <th></th>\n",
       "    </tr>\n",
       "  </thead>\n",
       "  <tbody>\n",
       "    <tr>\n",
       "      <th>2022-12-29 00:00:00</th>\n",
       "      <td>15600.557617</td>\n",
       "      <td>15600.557617</td>\n",
       "      <td>15611.49707</td>\n",
       "      <td>15573.189453</td>\n",
       "      <td>15573.189453</td>\n",
       "      <td>0</td>\n",
       "    </tr>\n",
       "    <tr>\n",
       "      <th>2022-12-29 01:00:00</th>\n",
       "      <td>15575.709961</td>\n",
       "      <td>15575.709961</td>\n",
       "      <td>15606.46875</td>\n",
       "      <td>15570.717773</td>\n",
       "      <td>15602.501953</td>\n",
       "      <td>0</td>\n",
       "    </tr>\n",
       "  </tbody>\n",
       "</table>\n",
       "</div>"
      ],
      "text/plain": [
       "Price                   Adj Close         Close         High           Low  \\\n",
       "Ticker                    BTC-EUR       BTC-EUR      BTC-EUR       BTC-EUR   \n",
       "Datetime                                                                     \n",
       "2022-12-29 00:00:00  15600.557617  15600.557617  15611.49707  15573.189453   \n",
       "2022-12-29 01:00:00  15575.709961  15575.709961  15606.46875  15570.717773   \n",
       "\n",
       "Price                        Open  Volume  \n",
       "Ticker                    BTC-EUR BTC-EUR  \n",
       "Datetime                                   \n",
       "2022-12-29 00:00:00  15573.189453       0  \n",
       "2022-12-29 01:00:00  15602.501953       0  "
      ]
     },
     "execution_count": 4,
     "metadata": {},
     "output_type": "execute_result"
    }
   ],
   "source": [
    "# Download BTC-EUR data\n",
    "btc2yraw = yf.download('BTC-EUR', period='2y', interval='60m')\n",
    "btc5yraw = yf.download('BTC-EUR', period='5y', interval='1d')\n",
    "btc5draw = yf.download('BTC-EUR', period='5d', interval='5m')\n",
    "\n",
    "# For debugging purposes\n",
    "btc2yraw.head(2)\n"
   ]
  },
  {
   "cell_type": "markdown",
   "metadata": {},
   "source": [
    "The data will be saved to separate CSV files, but before doing so, it will be formatted appropriately."
   ]
  },
  {
   "cell_type": "markdown",
   "metadata": {},
   "source": [
    "The sequence of columns is being changed first to ensure consistency with other DataFrames."
   ]
  },
  {
   "cell_type": "code",
   "execution_count": 5,
   "metadata": {},
   "outputs": [
    {
     "data": {
      "text/html": [
       "<div>\n",
       "<style scoped>\n",
       "    .dataframe tbody tr th:only-of-type {\n",
       "        vertical-align: middle;\n",
       "    }\n",
       "\n",
       "    .dataframe tbody tr th {\n",
       "        vertical-align: top;\n",
       "    }\n",
       "\n",
       "    .dataframe thead tr th {\n",
       "        text-align: left;\n",
       "    }\n",
       "\n",
       "    .dataframe thead tr:last-of-type th {\n",
       "        text-align: right;\n",
       "    }\n",
       "</style>\n",
       "<table border=\"1\" class=\"dataframe\">\n",
       "  <thead>\n",
       "    <tr>\n",
       "      <th>Price</th>\n",
       "      <th>Open</th>\n",
       "      <th>High</th>\n",
       "      <th>Low</th>\n",
       "      <th>Close</th>\n",
       "      <th>Adj Close</th>\n",
       "      <th>Volume</th>\n",
       "    </tr>\n",
       "    <tr>\n",
       "      <th>Ticker</th>\n",
       "      <th>BTC-EUR</th>\n",
       "      <th>BTC-EUR</th>\n",
       "      <th>BTC-EUR</th>\n",
       "      <th>BTC-EUR</th>\n",
       "      <th>BTC-EUR</th>\n",
       "      <th>BTC-EUR</th>\n",
       "    </tr>\n",
       "    <tr>\n",
       "      <th>Date</th>\n",
       "      <th></th>\n",
       "      <th></th>\n",
       "      <th></th>\n",
       "      <th></th>\n",
       "      <th></th>\n",
       "      <th></th>\n",
       "    </tr>\n",
       "  </thead>\n",
       "  <tbody>\n",
       "    <tr>\n",
       "      <th>2019-12-28</th>\n",
       "      <td>6522.800781</td>\n",
       "      <td>6621.246094</td>\n",
       "      <td>6520.898438</td>\n",
       "      <td>6548.715820</td>\n",
       "      <td>6548.715820</td>\n",
       "      <td>19119692112</td>\n",
       "    </tr>\n",
       "    <tr>\n",
       "      <th>2019-12-29</th>\n",
       "      <td>6548.409180</td>\n",
       "      <td>6723.894531</td>\n",
       "      <td>6514.598633</td>\n",
       "      <td>6638.048340</td>\n",
       "      <td>6638.048340</td>\n",
       "      <td>20072704182</td>\n",
       "    </tr>\n",
       "    <tr>\n",
       "      <th>2019-12-30</th>\n",
       "      <td>6635.920410</td>\n",
       "      <td>6653.482422</td>\n",
       "      <td>6490.386719</td>\n",
       "      <td>6510.733887</td>\n",
       "      <td>6510.733887</td>\n",
       "      <td>20420606561</td>\n",
       "    </tr>\n",
       "    <tr>\n",
       "      <th>2019-12-31</th>\n",
       "      <td>6512.022949</td>\n",
       "      <td>6537.012207</td>\n",
       "      <td>6392.172363</td>\n",
       "      <td>6411.460449</td>\n",
       "      <td>6411.460449</td>\n",
       "      <td>18866418835</td>\n",
       "    </tr>\n",
       "    <tr>\n",
       "      <th>2020-01-01</th>\n",
       "      <td>6412.612793</td>\n",
       "      <td>6469.861816</td>\n",
       "      <td>6420.140137</td>\n",
       "      <td>6417.781738</td>\n",
       "      <td>6417.781738</td>\n",
       "      <td>16548264141</td>\n",
       "    </tr>\n",
       "  </tbody>\n",
       "</table>\n",
       "</div>"
      ],
      "text/plain": [
       "Price              Open         High          Low        Close    Adj Close  \\\n",
       "Ticker          BTC-EUR      BTC-EUR      BTC-EUR      BTC-EUR      BTC-EUR   \n",
       "Date                                                                          \n",
       "2019-12-28  6522.800781  6621.246094  6520.898438  6548.715820  6548.715820   \n",
       "2019-12-29  6548.409180  6723.894531  6514.598633  6638.048340  6638.048340   \n",
       "2019-12-30  6635.920410  6653.482422  6490.386719  6510.733887  6510.733887   \n",
       "2019-12-31  6512.022949  6537.012207  6392.172363  6411.460449  6411.460449   \n",
       "2020-01-01  6412.612793  6469.861816  6420.140137  6417.781738  6417.781738   \n",
       "\n",
       "Price            Volume  \n",
       "Ticker          BTC-EUR  \n",
       "Date                     \n",
       "2019-12-28  19119692112  \n",
       "2019-12-29  20072704182  \n",
       "2019-12-30  20420606561  \n",
       "2019-12-31  18866418835  \n",
       "2020-01-01  16548264141  "
      ]
     },
     "execution_count": 5,
     "metadata": {},
     "output_type": "execute_result"
    }
   ],
   "source": [
    "# Define the list of DataFrames\n",
    "dataframes = [btc2yraw, btc5yraw, btc5draw]\n",
    "\n",
    "# Define the desired order for the columns\n",
    "newOrder = [\n",
    "    ('Open', 'BTC-EUR'), \n",
    "    ('High', 'BTC-EUR'), \n",
    "    ('Low', 'BTC-EUR'),\n",
    "    ('Close', 'BTC-EUR'), \n",
    "    ('Adj Close', 'BTC-EUR'), \n",
    "    ('Volume', 'BTC-EUR')\n",
    "]\n",
    "\n",
    "# Reorder the columns for each DataFrame\n",
    "formatedDataFrames = []\n",
    "\n",
    "for df in dataframes:\n",
    "    # Reorder the columns using the new_order\n",
    "    formatedDf = df[newOrder]\n",
    "    formatedDataFrames.append(formatedDf)\n",
    "\n",
    "btc2yraw, btc5yraw, btc5draw = formatedDataFrames\n",
    "# For degurging purposes\n",
    "btc5yraw.head()\n"
   ]
  },
  {
   "cell_type": "markdown",
   "metadata": {},
   "source": [
    "Next, multi-index columns will be flattened into single-level columns, and 'Date' will be renamed to 'Datetime' to ensure consistency with the other datasets."
   ]
  },
  {
   "cell_type": "code",
   "execution_count": 6,
   "metadata": {},
   "outputs": [
    {
     "data": {
      "text/html": [
       "<div>\n",
       "<style scoped>\n",
       "    .dataframe tbody tr th:only-of-type {\n",
       "        vertical-align: middle;\n",
       "    }\n",
       "\n",
       "    .dataframe tbody tr th {\n",
       "        vertical-align: top;\n",
       "    }\n",
       "\n",
       "    .dataframe thead th {\n",
       "        text-align: right;\n",
       "    }\n",
       "</style>\n",
       "<table border=\"1\" class=\"dataframe\">\n",
       "  <thead>\n",
       "    <tr style=\"text-align: right;\">\n",
       "      <th></th>\n",
       "      <th>Open_BTC-EUR</th>\n",
       "      <th>High_BTC-EUR</th>\n",
       "      <th>Low_BTC-EUR</th>\n",
       "      <th>Close_BTC-EUR</th>\n",
       "      <th>Adj Close_BTC-EUR</th>\n",
       "      <th>Volume_BTC-EUR</th>\n",
       "    </tr>\n",
       "    <tr>\n",
       "      <th>Datetime</th>\n",
       "      <th></th>\n",
       "      <th></th>\n",
       "      <th></th>\n",
       "      <th></th>\n",
       "      <th></th>\n",
       "      <th></th>\n",
       "    </tr>\n",
       "  </thead>\n",
       "  <tbody>\n",
       "    <tr>\n",
       "      <th>2022-12-29 00:00:00</th>\n",
       "      <td>15573.189453</td>\n",
       "      <td>15611.497070</td>\n",
       "      <td>15573.189453</td>\n",
       "      <td>15600.557617</td>\n",
       "      <td>15600.557617</td>\n",
       "      <td>0</td>\n",
       "    </tr>\n",
       "    <tr>\n",
       "      <th>2022-12-29 01:00:00</th>\n",
       "      <td>15602.501953</td>\n",
       "      <td>15606.468750</td>\n",
       "      <td>15570.717773</td>\n",
       "      <td>15575.709961</td>\n",
       "      <td>15575.709961</td>\n",
       "      <td>0</td>\n",
       "    </tr>\n",
       "    <tr>\n",
       "      <th>2022-12-29 02:00:00</th>\n",
       "      <td>15575.572266</td>\n",
       "      <td>15575.572266</td>\n",
       "      <td>15532.362305</td>\n",
       "      <td>15569.251953</td>\n",
       "      <td>15569.251953</td>\n",
       "      <td>231855104</td>\n",
       "    </tr>\n",
       "    <tr>\n",
       "      <th>2022-12-29 03:00:00</th>\n",
       "      <td>15570.788086</td>\n",
       "      <td>15593.959961</td>\n",
       "      <td>15568.463867</td>\n",
       "      <td>15593.629883</td>\n",
       "      <td>15593.629883</td>\n",
       "      <td>0</td>\n",
       "    </tr>\n",
       "    <tr>\n",
       "      <th>2022-12-29 04:00:00</th>\n",
       "      <td>15593.848633</td>\n",
       "      <td>15608.440430</td>\n",
       "      <td>15583.450195</td>\n",
       "      <td>15605.694336</td>\n",
       "      <td>15605.694336</td>\n",
       "      <td>0</td>\n",
       "    </tr>\n",
       "  </tbody>\n",
       "</table>\n",
       "</div>"
      ],
      "text/plain": [
       "                     Open_BTC-EUR  High_BTC-EUR   Low_BTC-EUR  Close_BTC-EUR  \\\n",
       "Datetime                                                                       \n",
       "2022-12-29 00:00:00  15573.189453  15611.497070  15573.189453   15600.557617   \n",
       "2022-12-29 01:00:00  15602.501953  15606.468750  15570.717773   15575.709961   \n",
       "2022-12-29 02:00:00  15575.572266  15575.572266  15532.362305   15569.251953   \n",
       "2022-12-29 03:00:00  15570.788086  15593.959961  15568.463867   15593.629883   \n",
       "2022-12-29 04:00:00  15593.848633  15608.440430  15583.450195   15605.694336   \n",
       "\n",
       "                     Adj Close_BTC-EUR  Volume_BTC-EUR  \n",
       "Datetime                                                \n",
       "2022-12-29 00:00:00       15600.557617               0  \n",
       "2022-12-29 01:00:00       15575.709961               0  \n",
       "2022-12-29 02:00:00       15569.251953       231855104  \n",
       "2022-12-29 03:00:00       15593.629883               0  \n",
       "2022-12-29 04:00:00       15605.694336               0  "
      ]
     },
     "execution_count": 6,
     "metadata": {},
     "output_type": "execute_result"
    }
   ],
   "source": [
    "## List of DataFrames for 2 years, 5 years, and 5 days data\n",
    "all2y = [eur2yraw, btc2yraw]\n",
    "all5y = [eur5yraw, btc5yraw]\n",
    "all5d = [eur5draw, btc5draw]\n",
    "\n",
    "# Reset index for all DataFrames\n",
    "for df_list in [all2y, all5y, all5d]:\n",
    "    for df in df_list:\n",
    "        df.reset_index(inplace=True)  # Resets the index for each DataFrame\n",
    "\n",
    "# Apply flatten_columns function to each DataFrame in all lists\n",
    "for df_list in [all2y, all5y, all5d]:\n",
    "    for df in df_list:\n",
    "        flattenColumns(df)\n",
    "        \n",
    "# Setting index for all DataFrames\n",
    "for df_list in [all2y, all5y, all5d]:\n",
    "    for df in df_list:\n",
    "        df.set_index('Datetime', inplace=True)\n",
    "\n",
    "# For degurging purposes\n",
    "btc2yraw.head()\n"
   ]
  },
  {
   "cell_type": "markdown",
   "metadata": {},
   "source": [
    "Finally, the names of the existing columns are being changed."
   ]
  },
  {
   "cell_type": "code",
   "execution_count": null,
   "metadata": {},
   "outputs": [
    {
     "data": {
      "text/html": [
       "<div>\n",
       "<style scoped>\n",
       "    .dataframe tbody tr th:only-of-type {\n",
       "        vertical-align: middle;\n",
       "    }\n",
       "\n",
       "    .dataframe tbody tr th {\n",
       "        vertical-align: top;\n",
       "    }\n",
       "\n",
       "    .dataframe thead th {\n",
       "        text-align: right;\n",
       "    }\n",
       "</style>\n",
       "<table border=\"1\" class=\"dataframe\">\n",
       "  <thead>\n",
       "    <tr style=\"text-align: right;\">\n",
       "      <th></th>\n",
       "      <th>BTC-EUR_Open</th>\n",
       "      <th>BTC-EUR_High</th>\n",
       "      <th>BTC-EUR_Low</th>\n",
       "      <th>BTC-EUR_Close</th>\n",
       "      <th>BTC-EUR_Adj Close</th>\n",
       "      <th>BTC-EUR_Volume</th>\n",
       "    </tr>\n",
       "    <tr>\n",
       "      <th>Datetime</th>\n",
       "      <th></th>\n",
       "      <th></th>\n",
       "      <th></th>\n",
       "      <th></th>\n",
       "      <th></th>\n",
       "      <th></th>\n",
       "    </tr>\n",
       "  </thead>\n",
       "  <tbody>\n",
       "    <tr>\n",
       "      <th>2022-12-29 00:00:00</th>\n",
       "      <td>15573.189453</td>\n",
       "      <td>15611.497070</td>\n",
       "      <td>15573.189453</td>\n",
       "      <td>15600.557617</td>\n",
       "      <td>15600.557617</td>\n",
       "      <td>0</td>\n",
       "    </tr>\n",
       "    <tr>\n",
       "      <th>2022-12-29 01:00:00</th>\n",
       "      <td>15602.501953</td>\n",
       "      <td>15606.468750</td>\n",
       "      <td>15570.717773</td>\n",
       "      <td>15575.709961</td>\n",
       "      <td>15575.709961</td>\n",
       "      <td>0</td>\n",
       "    </tr>\n",
       "    <tr>\n",
       "      <th>2022-12-29 02:00:00</th>\n",
       "      <td>15575.572266</td>\n",
       "      <td>15575.572266</td>\n",
       "      <td>15532.362305</td>\n",
       "      <td>15569.251953</td>\n",
       "      <td>15569.251953</td>\n",
       "      <td>231855104</td>\n",
       "    </tr>\n",
       "  </tbody>\n",
       "</table>\n",
       "</div>"
      ],
      "text/plain": [
       "                     BTC-EUR_Open  BTC-EUR_High   BTC-EUR_Low  BTC-EUR_Close  \\\n",
       "Datetime                                                                       \n",
       "2022-12-29 00:00:00  15573.189453  15611.497070  15573.189453   15600.557617   \n",
       "2022-12-29 01:00:00  15602.501953  15606.468750  15570.717773   15575.709961   \n",
       "2022-12-29 02:00:00  15575.572266  15575.572266  15532.362305   15569.251953   \n",
       "\n",
       "                     BTC-EUR_Adj Close  BTC-EUR_Volume  \n",
       "Datetime                                                \n",
       "2022-12-29 00:00:00       15600.557617               0  \n",
       "2022-12-29 01:00:00       15575.709961               0  \n",
       "2022-12-29 02:00:00       15569.251953       231855104  "
      ]
     },
     "execution_count": 7,
     "metadata": {},
     "output_type": "execute_result"
    }
   ],
   "source": [
    "# Define the new order and column name mapping\n",
    "rename_dict = {\n",
    "    'Open_BTC-EUR': 'BTC-EUR_Open',\n",
    "    'High_BTC-EUR': 'BTC-EUR_High',\n",
    "    'Low_BTC-EUR': 'BTC-EUR_Low',\n",
    "    'Close_BTC-EUR': 'BTC-EUR_Close',\n",
    "    'Adj Close_BTC-EUR': 'BTC-EUR_Adj Close',\n",
    "    'Volume_BTC-EUR': 'BTC-EUR_Volume'\n",
    "}\n",
    "\n",
    "# List of DataFrames to process\n",
    "dataframes = [btc2yraw, btc5yraw, btc5draw]\n",
    "\n",
    "# Rename columns and reorder the columns for each DataFrame\n",
    "for df in dataframes:\n",
    "    # Rename columns to match newOrder\n",
    "    df.rename(columns=rename_dict, inplace=True)\n",
    "\n",
    "# For degurging purposes\n",
    "btc2yraw.head(3)\n"
   ]
  },
  {
   "cell_type": "markdown",
   "metadata": {},
   "source": [
    "Now is time to save the data."
   ]
  },
  {
   "cell_type": "code",
   "execution_count": 8,
   "metadata": {},
   "outputs": [
    {
     "name": "stdout",
     "output_type": "stream",
     "text": [
      "Data saved to CSV files.\n"
     ]
    }
   ],
   "source": [
    "# Save the data to CSV files\n",
    "eurToSave = [eur2yraw, eur5yraw, eur5draw]\n",
    "filenames = ['eur2yraw.csv', 'eur5yraw.csv', 'eur5draw.csv']\n",
    "for i in range(3):\n",
    "    eurToSave[i].to_csv(f'data/csv/raw/{filenames[i]}')\n",
    "print('Data saved to CSV files.')"
   ]
  },
  {
   "cell_type": "code",
   "execution_count": 9,
   "metadata": {},
   "outputs": [
    {
     "name": "stdout",
     "output_type": "stream",
     "text": [
      "Data saved to CSV files.\n"
     ]
    }
   ],
   "source": [
    "# Save the data to CSV files\n",
    "btcToSave = [btc2yraw, btc5yraw, btc5draw]\n",
    "filenames = ['btc2yraw.csv', 'btc5yraw.csv', 'btc5draw.csv']\n",
    "for i in range(3):\n",
    "    btcToSave[i].to_csv(f'data/csv/raw/{filenames[i]}')\n",
    "print('Data saved to CSV files.')\n"
   ]
  },
  {
   "cell_type": "markdown",
   "metadata": {},
   "source": [
    "***"
   ]
  },
  {
   "cell_type": "markdown",
   "metadata": {},
   "source": [
    "#### Transferring to the Database."
   ]
  },
  {
   "cell_type": "markdown",
   "metadata": {},
   "source": [
    "An SQLite database named currency.db will be created. The data from the CSV files will then be inserted into the tables, with the data flattened to ensure compatibility with the database structure."
   ]
  },
  {
   "cell_type": "markdown",
   "metadata": {},
   "source": [
    "The CSV files will be transferred to the SQLite database. "
   ]
  },
  {
   "cell_type": "code",
   "execution_count": 10,
   "metadata": {},
   "outputs": [
    {
     "name": "stdout",
     "output_type": "stream",
     "text": [
      "Data successfully written to SQLite database.\n"
     ]
    }
   ],
   "source": [
    "# Connect to SQLite database (creates file if it doesn't exist)\n",
    "conn = sqlite3.connect('data/db/currencies.db')\n",
    "\n",
    "# List of DataFrames and their corresponding table names\n",
    "dataframes = [(eur2yraw, 'eur2yraw'), (eur5yraw, 'eur5yraw'), (eur5draw, 'eur5draw'), \n",
    "              (btc2yraw, 'btc2yraw'), (btc5yraw, 'btc5yraw'), (btc5draw, 'btc5draw')]\n",
    "# Loop to write each DataFrame to the SQLite database\n",
    "for df, table_name in dataframes:\n",
    "    df.to_sql(table_name, conn, if_exists='replace', index=True)\n",
    "    \n",
    "# Close the connection to SQLite\n",
    "conn.close()\n",
    "\n",
    "print(\"Data successfully written to SQLite database.\")\n"
   ]
  },
  {
   "cell_type": "markdown",
   "metadata": {},
   "source": [
    "The contents of the database will be checked to identify the tables it contains."
   ]
  },
  {
   "cell_type": "code",
   "execution_count": 11,
   "metadata": {},
   "outputs": [
    {
     "name": "stdout",
     "output_type": "stream",
     "text": [
      "Tables in the database:\n",
      "allCurrenciesData2y\n",
      "allCurrenciesData5y\n",
      "allCurrenciesData5d\n",
      "normalisedBasedValue2y\n",
      "normalisedBasedValue5y\n",
      "normalisedBasedValue5d\n",
      "normalisedMinMax2y\n",
      "normalisedMinMax5y\n",
      "normalisedMinMax5d\n",
      "normalisedZscore2y\n",
      "normalisedZscore5y\n",
      "normalisedZscore5d\n",
      "eur2yraw\n",
      "eur5yraw\n",
      "eur5draw\n",
      "btc2yraw\n",
      "btc5yraw\n",
      "btc5draw\n"
     ]
    }
   ],
   "source": [
    "# Connect to the SQLite database\n",
    "conn = sqlite3.connect('data/db/currencies.db')\n",
    "cursor = conn.cursor()\n",
    "\n",
    "# Query to list tables\n",
    "cursor.execute(\"SELECT name FROM sqlite_master WHERE type='table';\")\n",
    "tables = cursor.fetchall()\n",
    "\n",
    "# Print the tables\n",
    "print(\"Tables in the database:\")\n",
    "for table in tables:\n",
    "    print(table[0])\n",
    "\n",
    "# Close the connection\n",
    "conn.close()"
   ]
  },
  {
   "cell_type": "markdown",
   "metadata": {},
   "source": [
    "A test query will be executed on the database to check its functionality."
   ]
  },
  {
   "cell_type": "code",
   "execution_count": 12,
   "metadata": {},
   "outputs": [
    {
     "data": {
      "text/html": [
       "<div>\n",
       "<style scoped>\n",
       "    .dataframe tbody tr th:only-of-type {\n",
       "        vertical-align: middle;\n",
       "    }\n",
       "\n",
       "    .dataframe tbody tr th {\n",
       "        vertical-align: top;\n",
       "    }\n",
       "\n",
       "    .dataframe thead th {\n",
       "        text-align: right;\n",
       "    }\n",
       "</style>\n",
       "<table border=\"1\" class=\"dataframe\">\n",
       "  <thead>\n",
       "    <tr style=\"text-align: right;\">\n",
       "      <th></th>\n",
       "      <th>BTC-EUR_Open</th>\n",
       "      <th>BTC-EUR_High</th>\n",
       "      <th>BTC-EUR_Low</th>\n",
       "      <th>BTC-EUR_Close</th>\n",
       "      <th>BTC-EUR_Adj Close</th>\n",
       "      <th>BTC-EUR_Volume</th>\n",
       "    </tr>\n",
       "    <tr>\n",
       "      <th>Datetime</th>\n",
       "      <th></th>\n",
       "      <th></th>\n",
       "      <th></th>\n",
       "      <th></th>\n",
       "      <th></th>\n",
       "      <th></th>\n",
       "    </tr>\n",
       "  </thead>\n",
       "  <tbody>\n",
       "    <tr>\n",
       "      <th>2019-12-28 00:00:00</th>\n",
       "      <td>6522.800781</td>\n",
       "      <td>6621.246094</td>\n",
       "      <td>6520.898438</td>\n",
       "      <td>6548.715820</td>\n",
       "      <td>6548.715820</td>\n",
       "      <td>19119692112</td>\n",
       "    </tr>\n",
       "    <tr>\n",
       "      <th>2019-12-29 00:00:00</th>\n",
       "      <td>6548.409180</td>\n",
       "      <td>6723.894531</td>\n",
       "      <td>6514.598633</td>\n",
       "      <td>6638.048340</td>\n",
       "      <td>6638.048340</td>\n",
       "      <td>20072704182</td>\n",
       "    </tr>\n",
       "    <tr>\n",
       "      <th>2019-12-30 00:00:00</th>\n",
       "      <td>6635.920410</td>\n",
       "      <td>6653.482422</td>\n",
       "      <td>6490.386719</td>\n",
       "      <td>6510.733887</td>\n",
       "      <td>6510.733887</td>\n",
       "      <td>20420606561</td>\n",
       "    </tr>\n",
       "    <tr>\n",
       "      <th>2019-12-31 00:00:00</th>\n",
       "      <td>6512.022949</td>\n",
       "      <td>6537.012207</td>\n",
       "      <td>6392.172363</td>\n",
       "      <td>6411.460449</td>\n",
       "      <td>6411.460449</td>\n",
       "      <td>18866418835</td>\n",
       "    </tr>\n",
       "    <tr>\n",
       "      <th>2020-01-01 00:00:00</th>\n",
       "      <td>6412.612793</td>\n",
       "      <td>6469.861816</td>\n",
       "      <td>6420.140137</td>\n",
       "      <td>6417.781738</td>\n",
       "      <td>6417.781738</td>\n",
       "      <td>16548264141</td>\n",
       "    </tr>\n",
       "  </tbody>\n",
       "</table>\n",
       "</div>"
      ],
      "text/plain": [
       "                     BTC-EUR_Open  BTC-EUR_High  BTC-EUR_Low  BTC-EUR_Close  \\\n",
       "Datetime                                                                      \n",
       "2019-12-28 00:00:00   6522.800781   6621.246094  6520.898438    6548.715820   \n",
       "2019-12-29 00:00:00   6548.409180   6723.894531  6514.598633    6638.048340   \n",
       "2019-12-30 00:00:00   6635.920410   6653.482422  6490.386719    6510.733887   \n",
       "2019-12-31 00:00:00   6512.022949   6537.012207  6392.172363    6411.460449   \n",
       "2020-01-01 00:00:00   6412.612793   6469.861816  6420.140137    6417.781738   \n",
       "\n",
       "                     BTC-EUR_Adj Close  BTC-EUR_Volume  \n",
       "Datetime                                                \n",
       "2019-12-28 00:00:00        6548.715820     19119692112  \n",
       "2019-12-29 00:00:00        6638.048340     20072704182  \n",
       "2019-12-30 00:00:00        6510.733887     20420606561  \n",
       "2019-12-31 00:00:00        6411.460449     18866418835  \n",
       "2020-01-01 00:00:00        6417.781738     16548264141  "
      ]
     },
     "execution_count": 12,
     "metadata": {},
     "output_type": "execute_result"
    }
   ],
   "source": [
    "# Connect to the SQLite database\n",
    "conn = sqlite3.connect('data/db/currencies.db')\n",
    "\n",
    "# Read data from the table into a pandas DataFrame\n",
    "query = \"SELECT * FROM btc5yraw LIMIT 5;\"  # Adjust for your table name\n",
    "df = pd.read_sql(query, conn)\n",
    "df.set_index('Datetime', inplace=True)\n",
    "\n",
    "# Display the DataFrame\n",
    "df"
   ]
  },
  {
   "cell_type": "markdown",
   "metadata": {},
   "source": [
    "Understanding the collected data is essential. The following columns can be identified:\n",
    "* Open: Price at the start of the trading period.\n",
    "* High: Highest price during the trading period.\n",
    "* Low: Lowest price during the trading period.\n",
    "* Close: Price at the end of the trading period.\n",
    "* Adj Close: Close price adjusted for events like splits or dividends (irrelevant in this case).\n",
    "* Volume: Total amount of the asset traded during the period.\n"
   ]
  },
  {
   "cell_type": "markdown",
   "metadata": {},
   "source": [
    "***"
   ]
  },
  {
   "cell_type": "markdown",
   "metadata": {},
   "source": [
    "### 2. Data Cleaning"
   ]
  },
  {
   "cell_type": "markdown",
   "metadata": {},
   "source": [
    "The choice was made to analyse OHLC data (Open, High, Low, Close), with the analysis focused on the Close price. This provides a comprehensive view of price movements, which is crucial for identifying market trends and making informed trading decisions.\n",
    "\n",
    "Other data, such as volume or adjusted close, will be omitted, as they are less relevant for understanding price action and trend analysis. Upon examining the data, it became clear that the Adj Close column contains the same values as the Close column, and the Volume column is empty."
   ]
  },
  {
   "cell_type": "markdown",
   "metadata": {},
   "source": [
    "Formatting Data Frames for easier manipulation "
   ]
  },
  {
   "cell_type": "markdown",
   "metadata": {},
   "source": [
    "The columns not needed for the analysis were removed. The 'Adj Close' and 'Volume' columns will be removed from the DataFrames."
   ]
  },
  {
   "cell_type": "code",
   "execution_count": 13,
   "metadata": {},
   "outputs": [
    {
     "data": {
      "text/html": [
       "<div>\n",
       "<style scoped>\n",
       "    .dataframe tbody tr th:only-of-type {\n",
       "        vertical-align: middle;\n",
       "    }\n",
       "\n",
       "    .dataframe tbody tr th {\n",
       "        vertical-align: top;\n",
       "    }\n",
       "\n",
       "    .dataframe thead th {\n",
       "        text-align: right;\n",
       "    }\n",
       "</style>\n",
       "<table border=\"1\" class=\"dataframe\">\n",
       "  <thead>\n",
       "    <tr style=\"text-align: right;\">\n",
       "      <th></th>\n",
       "      <th>USDEUR=X_Open</th>\n",
       "      <th>USDEUR=X_High</th>\n",
       "      <th>USDEUR=X_Low</th>\n",
       "      <th>USDEUR=X_Close</th>\n",
       "      <th>GBPEUR=X_Open</th>\n",
       "      <th>GBPEUR=X_High</th>\n",
       "      <th>GBPEUR=X_Low</th>\n",
       "      <th>GBPEUR=X_Close</th>\n",
       "    </tr>\n",
       "    <tr>\n",
       "      <th>Datetime</th>\n",
       "      <th></th>\n",
       "      <th></th>\n",
       "      <th></th>\n",
       "      <th></th>\n",
       "      <th></th>\n",
       "      <th></th>\n",
       "      <th></th>\n",
       "      <th></th>\n",
       "    </tr>\n",
       "  </thead>\n",
       "  <tbody>\n",
       "    <tr>\n",
       "      <th>2022-12-28 00:00:00</th>\n",
       "      <td>0.9399</td>\n",
       "      <td>0.9409</td>\n",
       "      <td>0.9392</td>\n",
       "      <td>0.9406</td>\n",
       "      <td>1.13045</td>\n",
       "      <td>1.13079</td>\n",
       "      <td>1.1296</td>\n",
       "      <td>1.13074</td>\n",
       "    </tr>\n",
       "    <tr>\n",
       "      <th>2022-12-28 01:00:00</th>\n",
       "      <td>0.9406</td>\n",
       "      <td>0.9406</td>\n",
       "      <td>0.9391</td>\n",
       "      <td>0.9394</td>\n",
       "      <td>1.13091</td>\n",
       "      <td>1.13114</td>\n",
       "      <td>1.1297</td>\n",
       "      <td>1.12993</td>\n",
       "    </tr>\n",
       "    <tr>\n",
       "      <th>2022-12-28 02:00:00</th>\n",
       "      <td>0.9396</td>\n",
       "      <td>0.9399</td>\n",
       "      <td>0.9393</td>\n",
       "      <td>0.9399</td>\n",
       "      <td>1.12998</td>\n",
       "      <td>1.13021</td>\n",
       "      <td>1.1287</td>\n",
       "      <td>1.12899</td>\n",
       "    </tr>\n",
       "  </tbody>\n",
       "</table>\n",
       "</div>"
      ],
      "text/plain": [
       "                     USDEUR=X_Open  USDEUR=X_High  USDEUR=X_Low  \\\n",
       "Datetime                                                          \n",
       "2022-12-28 00:00:00         0.9399         0.9409        0.9392   \n",
       "2022-12-28 01:00:00         0.9406         0.9406        0.9391   \n",
       "2022-12-28 02:00:00         0.9396         0.9399        0.9393   \n",
       "\n",
       "                     USDEUR=X_Close  GBPEUR=X_Open  GBPEUR=X_High  \\\n",
       "Datetime                                                            \n",
       "2022-12-28 00:00:00          0.9406        1.13045        1.13079   \n",
       "2022-12-28 01:00:00          0.9394        1.13091        1.13114   \n",
       "2022-12-28 02:00:00          0.9399        1.12998        1.13021   \n",
       "\n",
       "                     GBPEUR=X_Low  GBPEUR=X_Close  \n",
       "Datetime                                           \n",
       "2022-12-28 00:00:00        1.1296         1.13074  \n",
       "2022-12-28 01:00:00        1.1297         1.12993  \n",
       "2022-12-28 02:00:00        1.1287         1.12899  "
      ]
     },
     "execution_count": 13,
     "metadata": {},
     "output_type": "execute_result"
    }
   ],
   "source": [
    "# Columns to drop (targeting columns that have '_Adj Close' or '_Volume' suffixes)\n",
    "columnsToDrop = ['_Adj Close', '_Volume']\n",
    "\n",
    "# List of DataFrames for each asset\n",
    "dfColumnsDroppedList = [eur2yraw, btc2yraw, eur5yraw, btc5yraw, eur5draw, btc5draw]\n",
    "\n",
    "# Iterate over each DataFrame and drop columns that contain '_Adj Close' or '_Volume'\n",
    "for df in dfColumnsDroppedList:\n",
    "    df.drop([col for col in df.columns if any(drop in col for drop in columnsToDrop)], axis=1, inplace=True)\n",
    "\n",
    "# Verify the result (Optional)\n",
    "eur2yraw.head(3)\n"
   ]
  },
  {
   "cell_type": "markdown",
   "metadata": {},
   "source": [
    "It is ensured that there is no empty data in the datasets."
   ]
  },
  {
   "cell_type": "code",
   "execution_count": 14,
   "metadata": {},
   "outputs": [
    {
     "name": "stdout",
     "output_type": "stream",
     "text": [
      "Empty values in eur2yraw: 48\n",
      "Empty values in btc2yraw: 0\n",
      "Empty values in eur5yraw: 0\n",
      "Empty values in btc5yraw: 0\n",
      "Empty values in eur5draw: 88\n",
      "Empty values in btc5draw: 0\n"
     ]
    }
   ],
   "source": [
    "dataFrames = {\n",
    "    \"eur2yraw\": eur2yraw,\n",
    "    \"btc2yraw\": btc2yraw,\n",
    "    \"eur5yraw\": eur5yraw,\n",
    "    \"btc5yraw\": btc5yraw,\n",
    "    \"eur5draw\": eur5draw,\n",
    "    \"btc5draw\": btc5draw\n",
    "}\n",
    "\n",
    "# Find missing values in each DataFrame\n",
    "for name, df in dataFrames.items():\n",
    "    print(f'Empty values in {name}: {df.isnull().sum().sum()}')\n"
   ]
  },
  {
   "cell_type": "markdown",
   "metadata": {},
   "source": [
    "Missing values are now filled using the forward fill method."
   ]
  },
  {
   "cell_type": "code",
   "execution_count": 15,
   "metadata": {},
   "outputs": [],
   "source": [
    "# List of DataFrames\n",
    "dataFrames = [eur2yraw, btc2yraw, eur5yraw, btc5yraw, eur5draw, btc5draw]\n",
    "\n",
    "# Forward fill missing values for each DataFrame in the list\n",
    "for df in dataFrames:\n",
    "    df.ffill(inplace=True)"
   ]
  },
  {
   "cell_type": "markdown",
   "metadata": {},
   "source": [
    "The datetime format is being checked to ensure it is correct."
   ]
  },
  {
   "cell_type": "code",
   "execution_count": 16,
   "metadata": {},
   "outputs": [
    {
     "name": "stdout",
     "output_type": "stream",
     "text": [
      "DataFrame 'eur2yraw': Index format is correct.\n",
      "DataFrame 'btc2yraw': Index format is correct.\n",
      "DataFrame 'eur5yraw': Index format is correct.\n",
      "DataFrame 'btc5yraw': Index format is correct.\n",
      "DataFrame 'eur5draw': Index format is correct.\n",
      "DataFrame 'btc5draw': Index format is correct.\n"
     ]
    }
   ],
   "source": [
    "dataFrames = {\n",
    "    \"eur2yraw\": eur2yraw,\n",
    "    \"btc2yraw\": btc2yraw,\n",
    "    \"eur5yraw\": eur5yraw,\n",
    "    \"btc5yraw\": btc5yraw,\n",
    "    \"eur5draw\": eur5draw,\n",
    "    \"btc5draw\": btc5draw\n",
    "}\n",
    "\n",
    "for name, df in dataFrames.items():\n",
    "    if pd.to_datetime(df.index, format='%Y-%m-%d %H:%M:%S', errors='coerce').notnull().all():\n",
    "        print(f\"DataFrame '{name}': Index format is correct.\")\n",
    "    else:\n",
    "        print(f\"DataFrame '{name}': Index contains invalid formats.\")\n"
   ]
  },
  {
   "cell_type": "markdown",
   "metadata": {},
   "source": [
    "Since a merge will be performed, the DataFrames will be converted to the same time zone."
   ]
  },
  {
   "cell_type": "code",
   "execution_count": 17,
   "metadata": {},
   "outputs": [],
   "source": [
    "## Convert to the same timezone (UTC) if the index is already timezone-aware\n",
    "dataFrames = [eur2yraw, btc2yraw, eur5yraw, btc5yraw, eur5draw, btc5draw]\n",
    "\n",
    "for df in dataFrames:\n",
    "    if df.index.tzinfo is None:  # If timezone is naive, localize to UTC\n",
    "        df.index = df.index.tz_localize('UTC')\n",
    "    else:  # If timezone is already aware, convert to UTC\n",
    "        df.index = df.index.tz_convert('UTC')"
   ]
  },
  {
   "cell_type": "markdown",
   "metadata": {},
   "source": [
    "The DataFrames with the exchange rates and the Bitcoin data will now be merged."
   ]
  },
  {
   "cell_type": "code",
   "execution_count": 18,
   "metadata": {},
   "outputs": [],
   "source": [
    "allCurrenciesData2y = eur2yraw.merge(btc2yraw, how='inner', on='Datetime', suffixes=('_GBP', '_BTC'))\n",
    "allCurrenciesData5y = eur5yraw.merge(btc5yraw, how='inner', on='Datetime', suffixes=('_GBP', '_BTC'))\n",
    "allCurrenciesData5d = eur5draw.merge(btc5draw, how='inner', on='Datetime', suffixes=('_GBP', '_BTC')) "
   ]
  },
  {
   "cell_type": "markdown",
   "metadata": {},
   "source": [
    "The data is saved to CSV files for future use."
   ]
  },
  {
   "cell_type": "code",
   "execution_count": 19,
   "metadata": {},
   "outputs": [],
   "source": [
    "# Save merged data to CSV files\n",
    "allCurrencies = {'allCurrenciesData2y': allCurrenciesData2y, 'allCurrenciesData5y': allCurrenciesData5y, 'allCurrenciesData5d': allCurrenciesData5d}\n",
    "for name, df in allCurrencies.items():\n",
    "    df.to_csv(f'data/csv/allcurrencies/{name}.csv')"
   ]
  },
  {
   "cell_type": "markdown",
   "metadata": {},
   "source": [
    "The data is transferred to an SQLite database."
   ]
  },
  {
   "cell_type": "code",
   "execution_count": 20,
   "metadata": {},
   "outputs": [],
   "source": [
    "allCurrencies = {'allCurrenciesData2y': allCurrenciesData2y, 'allCurrenciesData5y': allCurrenciesData5y, 'allCurrenciesData5d': allCurrenciesData5d}\n",
    "# Transfer the data to SQLite database\n",
    "conn = sqlite3.connect('data/db/currencies.db')\n",
    "for name, df in allCurrencies.items():\n",
    "    df.to_sql(name, conn, if_exists='replace', index=True)\n",
    "conn.close()\n"
   ]
  },
  {
   "cell_type": "markdown",
   "metadata": {},
   "source": [
    "#### Normalise Bitcoin exchange rates"
   ]
  },
  {
   "cell_type": "markdown",
   "metadata": {},
   "source": [
    "Normalisation is a technique used to adjust data to a consistent scale, enabling a more straightforward comparison of how values, such as prices, vary or change relative to one another.\n",
    "\n",
    "Different normalisation techniques, such as Base Value Normalisation, Min-Max Normalisation, and Z-score Normalisation, have been used to demonstrate how normalisation can be performed. Since Bitcoin will be compared to other currencies, all the compared data must be normalised using the same method."
   ]
  },
  {
   "cell_type": "markdown",
   "metadata": {},
   "source": [
    "##### Indexing to a Base Value or Base Value Normalisation. \n",
    "\n",
    "This method expresses all data points as a percentage relative to the first value in the dataset."
   ]
  },
  {
   "cell_type": "markdown",
   "metadata": {},
   "source": [
    "The data was normalised using the Indexing to Base Value method."
   ]
  },
  {
   "cell_type": "code",
   "execution_count": 21,
   "metadata": {},
   "outputs": [
    {
     "data": {
      "text/html": [
       "<div>\n",
       "<style scoped>\n",
       "    .dataframe tbody tr th:only-of-type {\n",
       "        vertical-align: middle;\n",
       "    }\n",
       "\n",
       "    .dataframe tbody tr th {\n",
       "        vertical-align: top;\n",
       "    }\n",
       "\n",
       "    .dataframe thead th {\n",
       "        text-align: right;\n",
       "    }\n",
       "</style>\n",
       "<table border=\"1\" class=\"dataframe\">\n",
       "  <thead>\n",
       "    <tr style=\"text-align: right;\">\n",
       "      <th></th>\n",
       "      <th>GBPEUR=X_Open</th>\n",
       "      <th>GBPEUR=X_High</th>\n",
       "      <th>GBPEUR=X_Low</th>\n",
       "      <th>GBPEUR=X_Close</th>\n",
       "      <th>USDEUR=X_Open</th>\n",
       "      <th>USDEUR=X_High</th>\n",
       "      <th>USDEUR=X_Low</th>\n",
       "      <th>USDEUR=X_Close</th>\n",
       "      <th>BTC-EUR_Open</th>\n",
       "      <th>BTC-EUR_High</th>\n",
       "      <th>BTC-EUR_Low</th>\n",
       "      <th>BTC-EUR_Close</th>\n",
       "    </tr>\n",
       "    <tr>\n",
       "      <th>Datetime</th>\n",
       "      <th></th>\n",
       "      <th></th>\n",
       "      <th></th>\n",
       "      <th></th>\n",
       "      <th></th>\n",
       "      <th></th>\n",
       "      <th></th>\n",
       "      <th></th>\n",
       "      <th></th>\n",
       "      <th></th>\n",
       "      <th></th>\n",
       "      <th></th>\n",
       "    </tr>\n",
       "  </thead>\n",
       "  <tbody>\n",
       "    <tr>\n",
       "      <th>2024-12-24 00:00:00+00:00</th>\n",
       "      <td>100.000000</td>\n",
       "      <td>100.000000</td>\n",
       "      <td>100.0</td>\n",
       "      <td>100.000000</td>\n",
       "      <td>100.000000</td>\n",
       "      <td>100.000000</td>\n",
       "      <td>100.000000</td>\n",
       "      <td>100.000000</td>\n",
       "      <td>100.000000</td>\n",
       "      <td>100.000000</td>\n",
       "      <td>100.000000</td>\n",
       "      <td>100.000000</td>\n",
       "    </tr>\n",
       "    <tr>\n",
       "      <th>2024-12-24 00:05:00+00:00</th>\n",
       "      <td>100.004988</td>\n",
       "      <td>99.999179</td>\n",
       "      <td>100.0</td>\n",
       "      <td>100.029065</td>\n",
       "      <td>100.010409</td>\n",
       "      <td>100.010401</td>\n",
       "      <td>100.020819</td>\n",
       "      <td>100.010401</td>\n",
       "      <td>99.924734</td>\n",
       "      <td>99.924734</td>\n",
       "      <td>99.941632</td>\n",
       "      <td>99.941632</td>\n",
       "    </tr>\n",
       "    <tr>\n",
       "      <th>2024-12-24 00:10:00+00:00</th>\n",
       "      <td>100.004157</td>\n",
       "      <td>99.999179</td>\n",
       "      <td>100.0</td>\n",
       "      <td>100.021591</td>\n",
       "      <td>100.010409</td>\n",
       "      <td>100.010401</td>\n",
       "      <td>100.020819</td>\n",
       "      <td>100.010401</td>\n",
       "      <td>99.791789</td>\n",
       "      <td>99.791789</td>\n",
       "      <td>99.673236</td>\n",
       "      <td>99.764459</td>\n",
       "    </tr>\n",
       "  </tbody>\n",
       "</table>\n",
       "</div>"
      ],
      "text/plain": [
       "                           GBPEUR=X_Open  GBPEUR=X_High  GBPEUR=X_Low  \\\n",
       "Datetime                                                                \n",
       "2024-12-24 00:00:00+00:00     100.000000     100.000000         100.0   \n",
       "2024-12-24 00:05:00+00:00     100.004988      99.999179         100.0   \n",
       "2024-12-24 00:10:00+00:00     100.004157      99.999179         100.0   \n",
       "\n",
       "                           GBPEUR=X_Close  USDEUR=X_Open  USDEUR=X_High  \\\n",
       "Datetime                                                                  \n",
       "2024-12-24 00:00:00+00:00      100.000000     100.000000     100.000000   \n",
       "2024-12-24 00:05:00+00:00      100.029065     100.010409     100.010401   \n",
       "2024-12-24 00:10:00+00:00      100.021591     100.010409     100.010401   \n",
       "\n",
       "                           USDEUR=X_Low  USDEUR=X_Close  BTC-EUR_Open  \\\n",
       "Datetime                                                                \n",
       "2024-12-24 00:00:00+00:00    100.000000      100.000000    100.000000   \n",
       "2024-12-24 00:05:00+00:00    100.020819      100.010401     99.924734   \n",
       "2024-12-24 00:10:00+00:00    100.020819      100.010401     99.791789   \n",
       "\n",
       "                           BTC-EUR_High  BTC-EUR_Low  BTC-EUR_Close  \n",
       "Datetime                                                             \n",
       "2024-12-24 00:00:00+00:00    100.000000   100.000000     100.000000  \n",
       "2024-12-24 00:05:00+00:00     99.924734    99.941632      99.941632  \n",
       "2024-12-24 00:10:00+00:00     99.791789    99.673236      99.764459  "
      ]
     },
     "execution_count": 21,
     "metadata": {},
     "output_type": "execute_result"
    }
   ],
   "source": [
    "# List of DataFrames to normalise\n",
    "dataFrames = [allCurrenciesData2y, allCurrenciesData5y, allCurrenciesData5d]\n",
    "\n",
    "# Normalise each DataFrame and store them in a list\n",
    "normalisedBasedValueFrames = [df.div(df.iloc[0]).mul(100) for df in dataFrames]\n",
    "\n",
    "# Assign normalised DataFrames to distinct variables\n",
    "normalisedBasedValue2y, normalisedBasedValue5y, normalisedBasedValue5d = \\\n",
    "normalisedBasedValueFrames[0], normalisedBasedValueFrames[1], normalisedBasedValueFrames[2]\n",
    "normalisedBasedValue5d.head(3)\n"
   ]
  },
  {
   "cell_type": "markdown",
   "metadata": {},
   "source": [
    "This approach is widely used to standardise time-series data, making comparing trends across different datasets or variables easier. It is particularly useful in financial and economic contexts, such as analysing stock prices, cryptocurrency values, or economic indicators. \n",
    "\n",
    "Read more on the [Medium Website](https://medium.com/coinmonks/cryptocurrency-analysis-with-python-understanding-normalization-returns-rewards-and-risk-7e4d530c917)."
   ]
  },
  {
   "cell_type": "markdown",
   "metadata": {},
   "source": [
    "##### Min-max Normalisation"
   ]
  },
  {
   "cell_type": "markdown",
   "metadata": {},
   "source": [
    "Min-max normalisation is a widely used method to scale data. In this approach, the smallest value of a feature is mapped to 0, the largest value is mapped to 1, and all other values are scaled proportionally to lie within the range of 0 and 1."
   ]
  },
  {
   "cell_type": "code",
   "execution_count": 22,
   "metadata": {},
   "outputs": [
    {
     "data": {
      "text/html": [
       "<div>\n",
       "<style scoped>\n",
       "    .dataframe tbody tr th:only-of-type {\n",
       "        vertical-align: middle;\n",
       "    }\n",
       "\n",
       "    .dataframe tbody tr th {\n",
       "        vertical-align: top;\n",
       "    }\n",
       "\n",
       "    .dataframe thead th {\n",
       "        text-align: right;\n",
       "    }\n",
       "</style>\n",
       "<table border=\"1\" class=\"dataframe\">\n",
       "  <thead>\n",
       "    <tr style=\"text-align: right;\">\n",
       "      <th></th>\n",
       "      <th>USDEUR=X_Open</th>\n",
       "      <th>USDEUR=X_High</th>\n",
       "      <th>USDEUR=X_Low</th>\n",
       "      <th>USDEUR=X_Close</th>\n",
       "      <th>GBPEUR=X_Open</th>\n",
       "      <th>GBPEUR=X_High</th>\n",
       "      <th>GBPEUR=X_Low</th>\n",
       "      <th>GBPEUR=X_Close</th>\n",
       "      <th>BTC-EUR_Open</th>\n",
       "      <th>BTC-EUR_High</th>\n",
       "      <th>BTC-EUR_Low</th>\n",
       "      <th>BTC-EUR_Close</th>\n",
       "    </tr>\n",
       "    <tr>\n",
       "      <th>Datetime</th>\n",
       "      <th></th>\n",
       "      <th></th>\n",
       "      <th></th>\n",
       "      <th></th>\n",
       "      <th></th>\n",
       "      <th></th>\n",
       "      <th></th>\n",
       "      <th></th>\n",
       "      <th></th>\n",
       "      <th></th>\n",
       "      <th></th>\n",
       "      <th></th>\n",
       "    </tr>\n",
       "  </thead>\n",
       "  <tbody>\n",
       "    <tr>\n",
       "      <th>2019-12-30 00:00:00+00:00</th>\n",
       "      <td>0.361936</td>\n",
       "      <td>0.339614</td>\n",
       "      <td>0.363203</td>\n",
       "      <td>0.362283</td>\n",
       "      <td>0.713173</td>\n",
       "      <td>0.627858</td>\n",
       "      <td>0.728747</td>\n",
       "      <td>0.713694</td>\n",
       "      <td>0.022278</td>\n",
       "      <td>0.018612</td>\n",
       "      <td>0.029148</td>\n",
       "      <td>0.021371</td>\n",
       "    </tr>\n",
       "    <tr>\n",
       "      <th>2019-12-31 00:00:00+00:00</th>\n",
       "      <td>0.354033</td>\n",
       "      <td>0.333047</td>\n",
       "      <td>0.356029</td>\n",
       "      <td>0.355397</td>\n",
       "      <td>0.712006</td>\n",
       "      <td>0.683151</td>\n",
       "      <td>0.734967</td>\n",
       "      <td>0.711948</td>\n",
       "      <td>0.020997</td>\n",
       "      <td>0.017427</td>\n",
       "      <td>0.028131</td>\n",
       "      <td>0.020345</td>\n",
       "    </tr>\n",
       "    <tr>\n",
       "      <th>2020-01-01 00:00:00+00:00</th>\n",
       "      <td>0.348419</td>\n",
       "      <td>0.347210</td>\n",
       "      <td>0.360485</td>\n",
       "      <td>0.349038</td>\n",
       "      <td>0.782577</td>\n",
       "      <td>0.717904</td>\n",
       "      <td>0.805969</td>\n",
       "      <td>0.783168</td>\n",
       "      <td>0.019968</td>\n",
       "      <td>0.016743</td>\n",
       "      <td>0.028421</td>\n",
       "      <td>0.020410</td>\n",
       "    </tr>\n",
       "  </tbody>\n",
       "</table>\n",
       "</div>"
      ],
      "text/plain": [
       "                           USDEUR=X_Open  USDEUR=X_High  USDEUR=X_Low  \\\n",
       "Datetime                                                                \n",
       "2019-12-30 00:00:00+00:00       0.361936       0.339614      0.363203   \n",
       "2019-12-31 00:00:00+00:00       0.354033       0.333047      0.356029   \n",
       "2020-01-01 00:00:00+00:00       0.348419       0.347210      0.360485   \n",
       "\n",
       "                           USDEUR=X_Close  GBPEUR=X_Open  GBPEUR=X_High  \\\n",
       "Datetime                                                                  \n",
       "2019-12-30 00:00:00+00:00        0.362283       0.713173       0.627858   \n",
       "2019-12-31 00:00:00+00:00        0.355397       0.712006       0.683151   \n",
       "2020-01-01 00:00:00+00:00        0.349038       0.782577       0.717904   \n",
       "\n",
       "                           GBPEUR=X_Low  GBPEUR=X_Close  BTC-EUR_Open  \\\n",
       "Datetime                                                                \n",
       "2019-12-30 00:00:00+00:00      0.728747        0.713694      0.022278   \n",
       "2019-12-31 00:00:00+00:00      0.734967        0.711948      0.020997   \n",
       "2020-01-01 00:00:00+00:00      0.805969        0.783168      0.019968   \n",
       "\n",
       "                           BTC-EUR_High  BTC-EUR_Low  BTC-EUR_Close  \n",
       "Datetime                                                             \n",
       "2019-12-30 00:00:00+00:00      0.018612     0.029148       0.021371  \n",
       "2019-12-31 00:00:00+00:00      0.017427     0.028131       0.020345  \n",
       "2020-01-01 00:00:00+00:00      0.016743     0.028421       0.020410  "
      ]
     },
     "execution_count": 22,
     "metadata": {},
     "output_type": "execute_result"
    }
   ],
   "source": [
    "# List of DataFrames\n",
    "dataframes = [allCurrenciesData2y, allCurrenciesData5y, allCurrenciesData5d]\n",
    "\n",
    "# Initialize the Min-Max Scaler\n",
    "minMaxScaler = preprocessing.MinMaxScaler()\n",
    "\n",
    "# Apply Min-Max scaling to each DataFrame and store them\n",
    "normalisedDfs = [\n",
    "    pd.DataFrame(\n",
    "        minMaxScaler.fit_transform(df), \n",
    "        columns=df.columns, \n",
    "        index=df.index\n",
    "    )\n",
    "    for df in dataFrames\n",
    "]\n",
    "\n",
    "# Unpack the normalized DataFrames\n",
    "normalisedMinMax2y, normalisedMinMax5y, normalisedMinMax5d = normalisedDfs\n",
    "\n",
    "# Display the first 3 rows of the normalised DataFrame for 5 years\n",
    "normalisedMinMax5y.head(3)\n"
   ]
  },
  {
   "cell_type": "markdown",
   "metadata": {},
   "source": [
    "According to the [Codeacadamy website ](https://www.codecademy.com/article/normalization#heading-review:~:text=Min%2Dmax%20normalization%3A%20Guarantees%20all%20features%20will%20have%20the%20exact%20same%20scale%20but%20does%20not%20handle%20outliers%20well.) Min-max normalization ensures that all features are scaled to the same range, typically between 0 and 1. Still, it is ineffective at managing outliers, as they can significantly skew the results. "
   ]
  },
  {
   "cell_type": "markdown",
   "metadata": {},
   "source": [
    "##### Z-score normalization"
   ]
  },
  {
   "cell_type": "markdown",
   "metadata": {},
   "source": [
    "\n",
    "Z-score normalisation is a method that helps to avoid problems with outliers. If a value is the same as the mean of a feature, it is normalised to 0. If the value is below the mean, it becomes a negative number; if it is above the mean, it turns positive. \n",
    "The size of these negative and positive values is determined by how spread out the original data is based on its standard deviation. In simpler terms, if the original data points vary widely, the normalised values will be smaller. Conversely, the normalised values will be larger if the original data has less variation.\n"
   ]
  },
  {
   "cell_type": "markdown",
   "metadata": {},
   "source": [
    "***"
   ]
  },
  {
   "cell_type": "code",
   "execution_count": 23,
   "metadata": {},
   "outputs": [
    {
     "data": {
      "text/html": [
       "<div>\n",
       "<style scoped>\n",
       "    .dataframe tbody tr th:only-of-type {\n",
       "        vertical-align: middle;\n",
       "    }\n",
       "\n",
       "    .dataframe tbody tr th {\n",
       "        vertical-align: top;\n",
       "    }\n",
       "\n",
       "    .dataframe thead th {\n",
       "        text-align: right;\n",
       "    }\n",
       "</style>\n",
       "<table border=\"1\" class=\"dataframe\">\n",
       "  <thead>\n",
       "    <tr style=\"text-align: right;\">\n",
       "      <th></th>\n",
       "      <th>USDEUR=X_Open</th>\n",
       "      <th>USDEUR=X_High</th>\n",
       "      <th>USDEUR=X_Low</th>\n",
       "      <th>USDEUR=X_Close</th>\n",
       "      <th>GBPEUR=X_Open</th>\n",
       "      <th>GBPEUR=X_High</th>\n",
       "      <th>GBPEUR=X_Low</th>\n",
       "      <th>GBPEUR=X_Close</th>\n",
       "      <th>BTC-EUR_Open</th>\n",
       "      <th>BTC-EUR_High</th>\n",
       "      <th>BTC-EUR_Low</th>\n",
       "      <th>BTC-EUR_Close</th>\n",
       "    </tr>\n",
       "    <tr>\n",
       "      <th>Datetime</th>\n",
       "      <th></th>\n",
       "      <th></th>\n",
       "      <th></th>\n",
       "      <th></th>\n",
       "      <th></th>\n",
       "      <th></th>\n",
       "      <th></th>\n",
       "      <th></th>\n",
       "      <th></th>\n",
       "      <th></th>\n",
       "      <th></th>\n",
       "      <th></th>\n",
       "    </tr>\n",
       "  </thead>\n",
       "  <tbody>\n",
       "    <tr>\n",
       "      <th>2019-12-30 00:00:00+00:00</th>\n",
       "      <td>-0.213431</td>\n",
       "      <td>-0.272000</td>\n",
       "      <td>-0.223526</td>\n",
       "      <td>-0.214269</td>\n",
       "      <td>0.434505</td>\n",
       "      <td>0.467533</td>\n",
       "      <td>0.464841</td>\n",
       "      <td>0.433466</td>\n",
       "      <td>-1.355427</td>\n",
       "      <td>-1.361760</td>\n",
       "      <td>-1.354000</td>\n",
       "      <td>-1.361789</td>\n",
       "    </tr>\n",
       "    <tr>\n",
       "      <th>2019-12-31 00:00:00+00:00</th>\n",
       "      <td>-0.252179</td>\n",
       "      <td>-0.303947</td>\n",
       "      <td>-0.258115</td>\n",
       "      <td>-0.248051</td>\n",
       "      <td>0.428163</td>\n",
       "      <td>0.749580</td>\n",
       "      <td>0.499053</td>\n",
       "      <td>0.423953</td>\n",
       "      <td>-1.361893</td>\n",
       "      <td>-1.367697</td>\n",
       "      <td>-1.359247</td>\n",
       "      <td>-1.366961</td>\n",
       "    </tr>\n",
       "    <tr>\n",
       "      <th>2020-01-01 00:00:00+00:00</th>\n",
       "      <td>-0.279704</td>\n",
       "      <td>-0.235044</td>\n",
       "      <td>-0.236631</td>\n",
       "      <td>-0.279252</td>\n",
       "      <td>0.811496</td>\n",
       "      <td>0.926849</td>\n",
       "      <td>0.889540</td>\n",
       "      <td>0.811830</td>\n",
       "      <td>-1.367082</td>\n",
       "      <td>-1.371120</td>\n",
       "      <td>-1.357753</td>\n",
       "      <td>-1.366632</td>\n",
       "    </tr>\n",
       "  </tbody>\n",
       "</table>\n",
       "</div>"
      ],
      "text/plain": [
       "                           USDEUR=X_Open  USDEUR=X_High  USDEUR=X_Low  \\\n",
       "Datetime                                                                \n",
       "2019-12-30 00:00:00+00:00      -0.213431      -0.272000     -0.223526   \n",
       "2019-12-31 00:00:00+00:00      -0.252179      -0.303947     -0.258115   \n",
       "2020-01-01 00:00:00+00:00      -0.279704      -0.235044     -0.236631   \n",
       "\n",
       "                           USDEUR=X_Close  GBPEUR=X_Open  GBPEUR=X_High  \\\n",
       "Datetime                                                                  \n",
       "2019-12-30 00:00:00+00:00       -0.214269       0.434505       0.467533   \n",
       "2019-12-31 00:00:00+00:00       -0.248051       0.428163       0.749580   \n",
       "2020-01-01 00:00:00+00:00       -0.279252       0.811496       0.926849   \n",
       "\n",
       "                           GBPEUR=X_Low  GBPEUR=X_Close  BTC-EUR_Open  \\\n",
       "Datetime                                                                \n",
       "2019-12-30 00:00:00+00:00      0.464841        0.433466     -1.355427   \n",
       "2019-12-31 00:00:00+00:00      0.499053        0.423953     -1.361893   \n",
       "2020-01-01 00:00:00+00:00      0.889540        0.811830     -1.367082   \n",
       "\n",
       "                           BTC-EUR_High  BTC-EUR_Low  BTC-EUR_Close  \n",
       "Datetime                                                             \n",
       "2019-12-30 00:00:00+00:00     -1.361760    -1.354000      -1.361789  \n",
       "2019-12-31 00:00:00+00:00     -1.367697    -1.359247      -1.366961  \n",
       "2020-01-01 00:00:00+00:00     -1.371120    -1.357753      -1.366632  "
      ]
     },
     "execution_count": 23,
     "metadata": {},
     "output_type": "execute_result"
    }
   ],
   "source": [
    "# List of DataFrames\n",
    "dataframes = [allCurrenciesData2y, allCurrenciesData5y, allCurrenciesData5d]\n",
    "\n",
    "# Initialize the Z-score scaler\n",
    "scalerZscore = StandardScaler()\n",
    "\n",
    "# Apply Z-score normalization to each DataFrame and store them\n",
    "normalisedDfs = [\n",
    "    pd.DataFrame(\n",
    "        scalerZscore.fit_transform(df),\n",
    "        columns=df.columns,\n",
    "        index=df.index\n",
    "    )\n",
    "    for df in dataFrames\n",
    "]\n",
    "\n",
    "# Unpack the normalized DataFrames\n",
    "normalisedZscore2y, normalisedZscore5y, normalisedZscore5d = normalisedDfs\n",
    "\n",
    "# Display the first 3 rows of the normalized DataFrame for 5 years\n",
    "normalisedZscore5y.head(3)\n"
   ]
  },
  {
   "cell_type": "markdown",
   "metadata": {},
   "source": [
    "According to the [Codeacadamy website ](https://www.codecademy.com/article/normalization#heading-review:~:text=Min%2Dmax%20normalization%3A%20Guarantees%20all%20features%20will%20have%20the%20exact%20same%20scale%20but%20does%20not%20handle%20outliers%20well.) Z-score normalisation handles outliers but does not scale data to a consistent range."
   ]
  },
  {
   "cell_type": "markdown",
   "metadata": {},
   "source": [
    "The normalised data is stored in CSV files to provide easy access to well-prepared Data Frames."
   ]
  },
  {
   "cell_type": "code",
   "execution_count": 24,
   "metadata": {},
   "outputs": [],
   "source": [
    "# Save the normalised data to CSV files\n",
    "normalisedData = {\n",
    "    'normalisedBasedValue2y': normalisedBasedValue2y,\n",
    "    'normalisedBasedValue5y': normalisedBasedValue5y,\n",
    "    'normalisedBasedValue5d': normalisedBasedValue5d,\n",
    "    'normalisedMinMax2y': normalisedMinMax2y,\n",
    "    'normalisedMinMax5y': normalisedMinMax5y,\n",
    "    'normalisedMinMax5d': normalisedMinMax5d,\n",
    "    'normalisedZscore2y': normalisedZscore2y,\n",
    "    'normalisedZscore5y': normalisedZscore5y,\n",
    "    'normalisedZscore5d': normalisedZscore5d\n",
    "}\n",
    "\n",
    "for name, df in normalisedData.items():\n",
    "    df.to_csv(f'data/csv/normalised/{name}.csv')"
   ]
  },
  {
   "cell_type": "markdown",
   "metadata": {},
   "source": [
    "The decision was also made to store the data in the database."
   ]
  },
  {
   "cell_type": "code",
   "execution_count": 25,
   "metadata": {},
   "outputs": [],
   "source": [
    "# Transfer the data to SQLite database\n",
    "conn = sqlite3.connect('data/db/currencies.db')\n",
    "for name, df in normalisedData.items():\n",
    "    df.to_sql(name, conn, if_exists='replace', index=True)\n",
    "conn.close()"
   ]
  },
  {
   "cell_type": "markdown",
   "metadata": {},
   "source": [
    "***"
   ]
  },
  {
   "cell_type": "markdown",
   "metadata": {},
   "source": [
    "### 3. Exploratory Data Analysis (EDA)"
   ]
  },
  {
   "cell_type": "markdown",
   "metadata": {},
   "source": [
    "Three datasets, spanning 5 days, 2 years, and 5 years, and normalised using methods such as Base Value Normalisation, Min-Max Normalisation, and Z-score normalisation, are available. These will be used to present historical data through a line plot."
   ]
  },
  {
   "cell_type": "markdown",
   "metadata": {},
   "source": [
    "The process begins with creating a line plot for Base Value Normalisation."
   ]
  },
  {
   "cell_type": "code",
   "execution_count": 26,
   "metadata": {},
   "outputs": [
    {
     "data": {
      "image/png": "[encoded data removed]",
      "text/plain": [
       "<Figure size 1200x600 with 1 Axes>"
      ]
     },
     "metadata": {},
     "output_type": "display_data"
    }
   ],
   "source": [
    "plotClosePrices(normalisedBasedValue5d, title='Historical Close Prices for Currencies (Based Value Normalisation)')"
   ]
  },
  {
   "cell_type": "markdown",
   "metadata": {},
   "source": [
    "The British Pound (GBP) has shown a relatively stable trend against the Euro (EUR), with only minor fluctuations. This stability may reflect the overall economic steadiness of the UK and the Eurozone during this period, with no major disruptions or events significantly affecting the exchange rate.\n",
    "\n",
    "Similarly, the USDEUR=X_Close, covering the past five days, demonstrates a normalised pattern similar to GBPEUR. This suggests that the USD has remained relatively stable against the Euro in the short term, likely indicating a lack of significant economic disturbances in both the US and the Eurozone.\n",
    "\n",
    "In contrast, BTC-EUR_Close exhibits considerable volatility over the same five-day period, which is typical for Bitcoin and other cryptocurrencies. Such fluctuations are common due to the inherent volatility of cryptocurrencies, which are more susceptible to market sentiment and external influences.\n",
    "\n",
    "In summary, the fiat currency pairs (GBPEUR and USDEUR) show a pattern of stability. In contrast, the BTC-EUR pair is more volatile, highlighting the contrasting nature of traditional currencies versus digital assets."
   ]
  },
  {
   "cell_type": "code",
   "execution_count": 27,
   "metadata": {},
   "outputs": [
    {
     "data": {
      "image/png": "[encoded data removed]",
      "text/plain": [
       "<Figure size 1200x600 with 1 Axes>"
      ]
     },
     "metadata": {},
     "output_type": "display_data"
    }
   ],
   "source": [
    "plotClosePrices(normalisedBasedValue2y, title='Historical Close Prices for Currencies (Based Value Normalisation)')"
   ]
  },
  {
   "cell_type": "markdown",
   "metadata": {},
   "source": [
    "The USDEUR=X_Close, represented by the blue line, has remained relatively stable for the two years with only minor fluctuations around the base value 100. This stability indicates that the exchange rate between the USD and EUR has not seen any significant turmoil, signalling steady economic conditions in the United States and the Eurozone. There have been slight ups and downs; however, the overall series trend reflects a stable relationship between the two currencies.\n",
    "\n",
    " Similarly, the GBPEUR=X_Close, in orange, also reflects stability. The normalised prices do not deviate much from the base value of 100, which means that the exchange rate between the British Pound and the Euro has remained relatively stable over the last two years. Such stability indicates that no significant events have occurred that disrupted the GBP and EUR exchange rate.\n",
    "\n",
    "On the other hand, BTC-EUR_Close is quite different, having started at the base value of 100 and tending to increase enormously, reaching over 600 up to the end of two years. Such a rapid rise is indicative of volatility and growth potential for Bitcoin against traditional fiat currencies. The huge appreciation of Bitcoin against the Euro indicates growing adoption and enthusiasm for cryptocurrencies and their inherent volatility.\n",
    "\n",
    "Whereas the trending slopes of USD-EUR and GBP-EUR fiat pairs are relatively stable and close together, the pair BTC-EUR uncovers tremendous growth and, thus, volatility. This might confirm the distinctive market forces driving traditionally driven currencies versus modern cryptocurrency alternatives."
   ]
  },
  {
   "cell_type": "code",
   "execution_count": 28,
   "metadata": {},
   "outputs": [
    {
     "data": {
      "image/png": "[encoded data removed]",
      "text/plain": [
       "<Figure size 1200x600 with 1 Axes>"
      ]
     },
     "metadata": {},
     "output_type": "display_data"
    }
   ],
   "source": [
    "plotClosePrices(normalisedBasedValue5y, title='Historical Close Prices for Currencies (Based Value Normalisation)')"
   ]
  },
  {
   "cell_type": "markdown",
   "metadata": {},
   "source": [
    "Over the five years, the behaviour of each currency pair gives an interesting insight into their respective trends and volatility since all data was normalized using the same method.\n",
    "It can be seen from historical data that USDEUR=X_Close (Blue Line) has a quite stable trend line with small fluctuations above or below the base value of 100. In itself, this stability can reflect that over the five years, the exchange rate has been consistent between USD and EUR, with no huge disruptions in the market, which have caused large shifts. It may indicate a certain regularity in the development between the economies of the United States and those within the Eurozone area.\n",
    "\n",
    "The same trend is shown by the GBPEUR=X_Close, orange line, which reflects a normalized price that has kept almost near the base value of 100. This means the rate of exchange between GBP and EUR has been quite stable between the UK and the Eurozone economies. Of course, slight changes happened, but nothing too extreme; hence, this currency pair was calm during these five years.\n",
    "\n",
    "On the other hand, BTC-EUR_Close paints a different story altogether. Starting at the base value of 100, the normalized price for BTC-EUR has been very volatile and shows, in general, an upward trend, going over 1600 by the end of the period. This dramatic increase highlights the high volatility and growth potential that Bitcoin offers compared to more traditional fiat currencies. The sharp rise in the value of Bitcoin against the Euro is a reflection of the wider adoption and market fervour for cryptocurrencies, coupled with the high volatility that is characteristic of them.\n",
    "\n",
    "The above graph succinctly captures that, while the fiat currency pairs are stable and show consistent upward trends in the five years, the BTC-EUR pair has huge growth with high volatility, underlining the different market dynamics between traditional currencies and cryptocurrencies. This plot offers an overall look at how these currency pairs have behaved on an extended timescale and provides a valuable insight into their respective trends and market conditions."
   ]
  }
 ],
 "metadata": {
  "kernelspec": {
   "display_name": "base",
   "language": "python",
   "name": "python3"
  },
  "language_info": {
   "codemirror_mode": {
    "name": "ipython",
    "version": 3
   },
   "file_extension": ".py",
   "mimetype": "text/x-python",
   "name": "python",
   "nbconvert_exporter": "python",
   "pygments_lexer": "ipython3",
   "version": "3.12.4"
  }
 },
 "nbformat": 4,
 "nbformat_minor": 2
}
