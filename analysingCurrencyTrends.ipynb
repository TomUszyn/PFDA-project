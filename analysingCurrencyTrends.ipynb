{
 "cells": [
  {
   "cell_type": "markdown",
   "metadata": {},
   "source": [
    "## Project: Analysing Currency Trends."
   ]
  },
  {
   "cell_type": "markdown",
   "metadata": {},
   "source": [
    "***"
   ]
  },
  {
   "cell_type": "markdown",
   "metadata": {},
   "source": [
    "### 1. Data Collection"
   ]
  },
  {
   "cell_type": "markdown",
   "metadata": {},
   "source": [
    "***"
   ]
  },
  {
   "cell_type": "markdown",
   "metadata": {},
   "source": [
    "Importing libraries."
   ]
  },
  {
   "cell_type": "code",
   "execution_count": 1,
   "metadata": {},
   "outputs": [],
   "source": [
    "import yfinance as yf\n",
    "import pandas as pd\n",
    "import sqlite3\n"
   ]
  },
  {
   "cell_type": "markdown",
   "metadata": {},
   "source": [
    "I'm getting data with a 60-minute interval covering 2 years, which is the maximum amount limited by Yahoo Finance. If I'm trying to get more data returned, \"The requested range must be within the last 730 days\"."
   ]
  },
  {
   "cell_type": "markdown",
   "metadata": {},
   "source": [
    "***"
   ]
  },
  {
   "cell_type": "markdown",
   "metadata": {},
   "source": [
    "#### Data related to the United States Dollar currency (USD represent by symbol **$**)."
   ]
  },
  {
   "cell_type": "markdown",
   "metadata": {},
   "source": [
    "Raw data are taken from Yahoo Finance."
   ]
  },
  {
   "cell_type": "code",
   "execution_count": 2,
   "metadata": {},
   "outputs": [
    {
     "name": "stderr",
     "output_type": "stream",
     "text": [
      "[*********************100%***********************]  2 of 2 completed\n",
      "[*********************100%***********************]  2 of 2 completed\n",
      "[*********************100%***********************]  2 of 2 completed\n"
     ]
    }
   ],
   "source": [
    "# Download 2 years of hourly data for USDGBP and USDEUR currency pairs\n",
    "usd2y = yf.download(['USDGBP=X','USDEUR=X'], period='2y', interval='60m', group_by='ticker')\n",
    "# Download 5 years of daily data for USDGBP and USDEUR currency pairs\n",
    "usd5y = yf.download(['USDGBP=X','USDEUR=X'], period='5y', interval='1d', group_by='ticker')\n",
    "# Download 5 days of 5 minute data for USDGBP and USDEUR currency pairs\n",
    "usd5d = yf.download(['USDGBP=X','USDEUR=X'], period='5d', interval='5m', group_by='ticker')\n"
   ]
  },
  {
   "cell_type": "markdown",
   "metadata": {},
   "source": [
    "Saving the data to CSV files."
   ]
  },
  {
   "cell_type": "code",
   "execution_count": 3,
   "metadata": {},
   "outputs": [
    {
     "name": "stdout",
     "output_type": "stream",
     "text": [
      "Data saved to CSV files\n"
     ]
    }
   ],
   "source": [
    "# Save the data to CSV files\n",
    "usdToSave = [usd2y, usd5y, usd5d]\n",
    "filenames = ['usd2y.csv', 'usd5y.csv', 'usd5d.csv']\n",
    "for i in range(3):\n",
    "    usdToSave[i].to_csv(f'data/csv/{filenames[i]}')\n",
    "print('Data saved to CSV files')\n"
   ]
  },
  {
   "cell_type": "markdown",
   "metadata": {},
   "source": [
    "#### Data related to the Great British Pound (often referred to simply as the British Pounds) currency (GBP represent by symbol **£**)."
   ]
  },
  {
   "cell_type": "markdown",
   "metadata": {},
   "source": [
    "Raw data are taken from Yahoo Finance."
   ]
  },
  {
   "cell_type": "code",
   "execution_count": 4,
   "metadata": {},
   "outputs": [
    {
     "name": "stderr",
     "output_type": "stream",
     "text": [
      "[*********************100%***********************]  2 of 2 completed\n",
      "[*********************100%***********************]  2 of 2 completed\n",
      "[*********************100%***********************]  2 of 2 completed\n"
     ]
    }
   ],
   "source": [
    "# Download 2 years of hourly data for GBPUSD and EURUSD currency pairs\n",
    "gbp2y = yf.download(['GBPUSD=X','EURUSD=X'], period='2y', interval='60m', group_by='ticker')\n",
    "# Download 5 years of daily data for GBPUSD and EURUSD currency pairs\n",
    "gbp5y = yf.download(['GBPUSD=X','EURUSD=X'], period='5y', interval='1d', group_by='ticker')\n",
    "# Download 5 days of 5 minute data for GBPUSD and EURUSD currency pairs\n",
    "gbp5d = yf.download(['GBPUSD=X','EURUSD=X'], period='5d', interval='5m', group_by='ticker')\n"
   ]
  },
  {
   "cell_type": "markdown",
   "metadata": {},
   "source": [
    "Saving the data to CSV files."
   ]
  },
  {
   "cell_type": "code",
   "execution_count": 5,
   "metadata": {},
   "outputs": [
    {
     "name": "stdout",
     "output_type": "stream",
     "text": [
      "Data saved to CSV files\n"
     ]
    }
   ],
   "source": [
    "# Save the data to CSV files\n",
    "gbpToSave = [gbp2y, gbp5y, gbp5d]\n",
    "filenames = ['gbp2y.csv', 'gbp5y.csv', 'gbp5d.csv']\n",
    "for i in range(3):\n",
    "    gbpToSave[i].to_csv(f'data/csv/{filenames[i]}')\n",
    "print('Data saved to CSV files')"
   ]
  },
  {
   "cell_type": "markdown",
   "metadata": {},
   "source": [
    "#### Data related to official currency of the Eurozone knows as Euro currency (EUR: represent by **€**). "
   ]
  },
  {
   "cell_type": "markdown",
   "metadata": {},
   "source": [
    "Raw data are taken from Yahoo Finance."
   ]
  },
  {
   "cell_type": "code",
   "execution_count": 6,
   "metadata": {},
   "outputs": [
    {
     "name": "stderr",
     "output_type": "stream",
     "text": [
      "[*********************100%***********************]  2 of 2 completed\n",
      "[*********************100%***********************]  2 of 2 completed\n",
      "[*********************100%***********************]  2 of 2 completed\n"
     ]
    }
   ],
   "source": [
    "# Download 2 years of hourly data for EURUSD and EURGBP currency pairs\n",
    "eur2y = yf.download(['EURUSD=X', 'EURGBP=X'], period='2y', interval='60m', group_by='ticker')\n",
    "# Download 5 years of daily data for EURUSD and EURGBP currency pairs\n",
    "eur5y = yf.download(['EURUSD=X', 'EURGBP=X'], period='5y', interval='1d', group_by='ticker')\n",
    "# Download 5 days of 5 minute data for EURUSD and EURGBP currency pairs\n",
    "eur5d = yf.download(['EURUSD=X', 'EURGBP=X'], period='5d', interval='5m', group_by='ticker')\n"
   ]
  },
  {
   "cell_type": "markdown",
   "metadata": {},
   "source": [
    "Saving the data to CSV files."
   ]
  },
  {
   "cell_type": "code",
   "execution_count": 7,
   "metadata": {},
   "outputs": [
    {
     "name": "stdout",
     "output_type": "stream",
     "text": [
      "Data saved to CSV files\n"
     ]
    }
   ],
   "source": [
    "# Save the data to CSV files\n",
    "eurToSave = [eur2y, eur5y, eur5d]\n",
    "filenames = ['eur2y.csv', 'eur5y.csv', 'eur5d.csv']\n",
    "for i in range(3):\n",
    "    eurToSave[i].to_csv(f'data/csv/{filenames[i]}')\n",
    "print('Data saved to CSV files')\n"
   ]
  },
  {
   "cell_type": "markdown",
   "metadata": {},
   "source": [
    "#### Data related to the Bitcoin cryptocurrency (BTC represented by symbol **₿**)"
   ]
  },
  {
   "cell_type": "markdown",
   "metadata": {},
   "source": [
    "Raw data are taken from Yahoo Finance."
   ]
  },
  {
   "cell_type": "code",
   "execution_count": 8,
   "metadata": {},
   "outputs": [
    {
     "name": "stderr",
     "output_type": "stream",
     "text": [
      "[*********************100%***********************]  3 of 3 completed\n",
      "[*********************100%***********************]  3 of 3 completed\n",
      "[*********************100%***********************]  3 of 3 completed\n"
     ]
    }
   ],
   "source": [
    "# Download 2 years of hourly data for BTCUSD, BTCGBP and BTCEUR currency pairs\n",
    "btc2y = yf.download(['BTC-USD', 'BTC-GBP', 'BTC-EUR'], period='2y', interval='60m', group_by='ticker')\n",
    "# Download 5 years of daily data for BTCUSD, BTCGBP and BTCEUR currency pairs\n",
    "btc5y = yf.download(['BTC-USD', 'BTC-GBP', 'BTC-EUR'], period='5y', interval='1d', group_by='ticker')\n",
    "# Download 5 days of 5 minute data for BTCUSD, BTCGBP and BTCEUR currency pairs\n",
    "btc5d = yf.download(['BTC-USD', 'BTC-GBP', 'BTC-EUR'], period='5d', interval='5m', group_by='ticker')\n"
   ]
  },
  {
   "cell_type": "markdown",
   "metadata": {},
   "source": [
    "Saving the data to CSV files."
   ]
  },
  {
   "cell_type": "code",
   "execution_count": 9,
   "metadata": {},
   "outputs": [
    {
     "name": "stdout",
     "output_type": "stream",
     "text": [
      "Data saved to CSV files\n"
     ]
    }
   ],
   "source": [
    "# Save the data to CSV files\n",
    "btcToSave = [btc2y, btc5y, btc5d]\n",
    "filenames = ['btc2y.csv', 'btc5y.csv', 'btc5d.csv']\n",
    "for i in range(3):\n",
    "    btcToSave[i].to_csv(f'data/csv/{filenames[i]}')\n",
    "print('Data saved to CSV files')\n"
   ]
  },
  {
   "cell_type": "markdown",
   "metadata": {},
   "source": [
    "***"
   ]
  },
  {
   "cell_type": "markdown",
   "metadata": {},
   "source": [
    "#### Preparing data to transfer to the Database."
   ]
  },
  {
   "cell_type": "markdown",
   "metadata": {},
   "source": [
    "Database Setup:\n",
    "\n",
    "I will create an SQLite database named currency.db and set up individual tables for each currency pair and corresponding datasets. I will then insert the data from the CSV files into the tables. To ensure compatibility with the database structure, I need to flatten the multi-index columns in the data frames before inserting them into the database.\n",
    "\n",
    "Reason for Downloading Separately:\n",
    "\n",
    "When I attempted to download all the datasets at once, I noticed that some data was consistently missing or lost, even though the requested datasets were the same. This issue likely stemmed from limited access to Yahoo Finance's API, which can result in data loss when simultaneously querying large amounts of data.\n",
    "By downloading the data separately, I can mitigate this problem and ensure I collect the better quality dataset for each currency pair without risking data corruption or loss due to API limitations."
   ]
  },
  {
   "cell_type": "markdown",
   "metadata": {},
   "source": [
    "Visual inspection of the data shows that the data is downloaded correctly. I noticed that the date format is different in 5 years of daily data than in 2 years of hourly data and 5 days of 5-minute data. I converted the date format to the same like in 2 years of hourly data and 5 days of 5-minute data."
   ]
  },
  {
   "cell_type": "markdown",
   "metadata": {},
   "source": [
    "Flattening the dataframes."
   ]
  },
  {
   "cell_type": "code",
   "execution_count": 10,
   "metadata": {},
   "outputs": [],
   "source": [
    "# List of DataFrames for 2 years, 5 years, and 5 days data\n",
    "all2y = [usd2y, gbp2y, eur2y, btc2y]\n",
    "all5y = [usd5y, gbp5y, eur5y, btc5y]\n",
    "all5d = [usd5d, gbp5d, eur5d, btc5d]\n",
    "\n",
    "# Reset index for all DataFrames\n",
    "for df_list in [all2y, all5y, all5d]:\n",
    "    for df in df_list:\n",
    "        df.reset_index(inplace=True)  # Resets the index for each DataFrame\n",
    "\n",
    "# Function to flatten multi-index columns into single-level columns\n",
    "def flatten_columns(df):\n",
    "    # Rename 'Date' to 'Datetime' for all DataFrames in all5y\n",
    "    if 'Date' in df.columns:\n",
    "        df.rename(columns={'Date': 'Datetime'}, inplace=True)\n",
    "    \n",
    "    # Flatten multi-index columns to single level\n",
    "    df.columns = ['Datetime' if isinstance(col, tuple) and col[0] == 'Datetime' \n",
    "                  else '_'.join(col).strip() for col in df.columns]\n",
    "\n",
    "# Apply flatten_columns function to each DataFrame in all lists\n",
    "for df_list in [all2y, all5y, all5d]:\n",
    "    for df in df_list:\n",
    "        flatten_columns(df)\n",
    "        \n",
    "# Setting index for all DataFrames\n",
    "for df_list in [all2y, all5y, all5d]:\n",
    "    for df in df_list:\n",
    "        df.set_index('Datetime', inplace=True)\n",
    "\n"
   ]
  },
  {
   "cell_type": "markdown",
   "metadata": {},
   "source": [
    "Transfer CSVfiles to the SQLite Database."
   ]
  },
  {
   "cell_type": "code",
   "execution_count": 11,
   "metadata": {},
   "outputs": [
    {
     "name": "stdout",
     "output_type": "stream",
     "text": [
      "Data successfully written to SQLite database!\n"
     ]
    }
   ],
   "source": [
    "\n",
    "# Connect to SQLite database (creates file if it doesn't exist)\n",
    "conn = sqlite3.connect('data/db/currencies.db')\n",
    "\n",
    "# List of DataFrames and their corresponding table names\n",
    "dataframes = [(usd2y, 'usd2y'), (usd5y, 'usd5y'), (usd5d, 'usd5d'), \n",
    "              (gbp2y, 'gbp2y'), (gbp5y, 'gbp5y'), (gbp5d, 'gbp5d'), \n",
    "              (eur2y, 'eur2y'), (eur5y, 'eur5y'), (eur5d, 'eur5d'), \n",
    "              (btc2y, 'btc2y'), (btc5y, 'btc5y'), (btc5d, 'btc5d')]\n",
    "# Loop to write each DataFrame to the SQLite database\n",
    "for df, table_name in dataframes:\n",
    "    df.to_sql(table_name, conn, if_exists='replace', index=True)\n",
    "    \n",
    "# Close the connection to SQLite\n",
    "conn.close()\n",
    "\n",
    "print(\"Data successfully written to SQLite database!\")\n"
   ]
  },
  {
   "cell_type": "markdown",
   "metadata": {},
   "source": [
    "Checking what tables contain the Database."
   ]
  },
  {
   "cell_type": "code",
   "execution_count": 12,
   "metadata": {},
   "outputs": [
    {
     "name": "stdout",
     "output_type": "stream",
     "text": [
      "Tables in the database:\n",
      "usd2y\n",
      "usd5y\n",
      "usd5d\n",
      "gbp2y\n",
      "gbp5y\n",
      "gbp5d\n",
      "eur2y\n",
      "eur5y\n",
      "eur5d\n",
      "btc2y\n",
      "btc5y\n",
      "btc5d\n"
     ]
    }
   ],
   "source": [
    "# Connect to the SQLite database\n",
    "conn = sqlite3.connect('data/db/currencies.db')\n",
    "cursor = conn.cursor()\n",
    "\n",
    "# Query to list tables\n",
    "cursor.execute(\"SELECT name FROM sqlite_master WHERE type='table';\")\n",
    "tables = cursor.fetchall()\n",
    "\n",
    "# Print the tables\n",
    "print(\"Tables in the database:\")\n",
    "for table in tables:\n",
    "    print(table[0])\n",
    "\n",
    "# Close the connection\n",
    "conn.close()"
   ]
  },
  {
   "cell_type": "markdown",
   "metadata": {},
   "source": [
    "Testing  query to the Database."
   ]
  },
  {
   "cell_type": "code",
   "execution_count": 13,
   "metadata": {},
   "outputs": [
    {
     "data": {
      "text/html": [
       "<div>\n",
       "<style scoped>\n",
       "    .dataframe tbody tr th:only-of-type {\n",
       "        vertical-align: middle;\n",
       "    }\n",
       "\n",
       "    .dataframe tbody tr th {\n",
       "        vertical-align: top;\n",
       "    }\n",
       "\n",
       "    .dataframe thead th {\n",
       "        text-align: right;\n",
       "    }\n",
       "</style>\n",
       "<table border=\"1\" class=\"dataframe\">\n",
       "  <thead>\n",
       "    <tr style=\"text-align: right;\">\n",
       "      <th></th>\n",
       "      <th>GBPUSD=X_Open</th>\n",
       "      <th>GBPUSD=X_High</th>\n",
       "      <th>GBPUSD=X_Low</th>\n",
       "      <th>GBPUSD=X_Close</th>\n",
       "      <th>GBPUSD=X_Adj Close</th>\n",
       "      <th>GBPUSD=X_Volume</th>\n",
       "      <th>EURUSD=X_Open</th>\n",
       "      <th>EURUSD=X_High</th>\n",
       "      <th>EURUSD=X_Low</th>\n",
       "      <th>EURUSD=X_Close</th>\n",
       "      <th>EURUSD=X_Adj Close</th>\n",
       "      <th>EURUSD=X_Volume</th>\n",
       "    </tr>\n",
       "    <tr>\n",
       "      <th>Datetime</th>\n",
       "      <th></th>\n",
       "      <th></th>\n",
       "      <th></th>\n",
       "      <th></th>\n",
       "      <th></th>\n",
       "      <th></th>\n",
       "      <th></th>\n",
       "      <th></th>\n",
       "      <th></th>\n",
       "      <th></th>\n",
       "      <th></th>\n",
       "      <th></th>\n",
       "    </tr>\n",
       "  </thead>\n",
       "  <tbody>\n",
       "    <tr>\n",
       "      <th>2019-12-13 00:00:00</th>\n",
       "      <td>1.347654</td>\n",
       "      <td>1.350986</td>\n",
       "      <td>1.330955</td>\n",
       "      <td>1.347527</td>\n",
       "      <td>1.347527</td>\n",
       "      <td>0.0</td>\n",
       "      <td>1.118343</td>\n",
       "      <td>1.118693</td>\n",
       "      <td>1.111889</td>\n",
       "      <td>1.118606</td>\n",
       "      <td>1.118606</td>\n",
       "      <td>0</td>\n",
       "    </tr>\n",
       "    <tr>\n",
       "      <th>2019-12-16 00:00:00</th>\n",
       "      <td>1.335524</td>\n",
       "      <td>1.341706</td>\n",
       "      <td>1.332623</td>\n",
       "      <td>1.335327</td>\n",
       "      <td>1.335327</td>\n",
       "      <td>0.0</td>\n",
       "      <td>1.112520</td>\n",
       "      <td>1.115785</td>\n",
       "      <td>1.112347</td>\n",
       "      <td>1.112446</td>\n",
       "      <td>1.112446</td>\n",
       "      <td>0</td>\n",
       "    </tr>\n",
       "    <tr>\n",
       "      <th>2019-12-17 00:00:00</th>\n",
       "      <td>1.327175</td>\n",
       "      <td>1.330495</td>\n",
       "      <td>1.310410</td>\n",
       "      <td>1.327246</td>\n",
       "      <td>1.327246</td>\n",
       "      <td>0.0</td>\n",
       "      <td>1.113710</td>\n",
       "      <td>1.117319</td>\n",
       "      <td>1.113090</td>\n",
       "      <td>1.113697</td>\n",
       "      <td>1.113697</td>\n",
       "      <td>0</td>\n",
       "    </tr>\n",
       "    <tr>\n",
       "      <th>2019-12-18 00:00:00</th>\n",
       "      <td>1.312215</td>\n",
       "      <td>1.312560</td>\n",
       "      <td>1.306233</td>\n",
       "      <td>1.312215</td>\n",
       "      <td>1.312215</td>\n",
       "      <td>0.0</td>\n",
       "      <td>1.115150</td>\n",
       "      <td>1.115150</td>\n",
       "      <td>1.111136</td>\n",
       "      <td>1.115138</td>\n",
       "      <td>1.115138</td>\n",
       "      <td>0</td>\n",
       "    </tr>\n",
       "    <tr>\n",
       "      <th>2019-12-19 00:00:00</th>\n",
       "      <td>1.308472</td>\n",
       "      <td>1.312956</td>\n",
       "      <td>1.299663</td>\n",
       "      <td>1.308729</td>\n",
       "      <td>1.308729</td>\n",
       "      <td>0.0</td>\n",
       "      <td>1.111593</td>\n",
       "      <td>1.114243</td>\n",
       "      <td>1.110988</td>\n",
       "      <td>1.111593</td>\n",
       "      <td>1.111593</td>\n",
       "      <td>0</td>\n",
       "    </tr>\n",
       "  </tbody>\n",
       "</table>\n",
       "</div>"
      ],
      "text/plain": [
       "                     GBPUSD=X_Open  GBPUSD=X_High  GBPUSD=X_Low  \\\n",
       "Datetime                                                          \n",
       "2019-12-13 00:00:00       1.347654       1.350986      1.330955   \n",
       "2019-12-16 00:00:00       1.335524       1.341706      1.332623   \n",
       "2019-12-17 00:00:00       1.327175       1.330495      1.310410   \n",
       "2019-12-18 00:00:00       1.312215       1.312560      1.306233   \n",
       "2019-12-19 00:00:00       1.308472       1.312956      1.299663   \n",
       "\n",
       "                     GBPUSD=X_Close  GBPUSD=X_Adj Close  GBPUSD=X_Volume  \\\n",
       "Datetime                                                                   \n",
       "2019-12-13 00:00:00        1.347527            1.347527              0.0   \n",
       "2019-12-16 00:00:00        1.335327            1.335327              0.0   \n",
       "2019-12-17 00:00:00        1.327246            1.327246              0.0   \n",
       "2019-12-18 00:00:00        1.312215            1.312215              0.0   \n",
       "2019-12-19 00:00:00        1.308729            1.308729              0.0   \n",
       "\n",
       "                     EURUSD=X_Open  EURUSD=X_High  EURUSD=X_Low  \\\n",
       "Datetime                                                          \n",
       "2019-12-13 00:00:00       1.118343       1.118693      1.111889   \n",
       "2019-12-16 00:00:00       1.112520       1.115785      1.112347   \n",
       "2019-12-17 00:00:00       1.113710       1.117319      1.113090   \n",
       "2019-12-18 00:00:00       1.115150       1.115150      1.111136   \n",
       "2019-12-19 00:00:00       1.111593       1.114243      1.110988   \n",
       "\n",
       "                     EURUSD=X_Close  EURUSD=X_Adj Close  EURUSD=X_Volume  \n",
       "Datetime                                                                  \n",
       "2019-12-13 00:00:00        1.118606            1.118606                0  \n",
       "2019-12-16 00:00:00        1.112446            1.112446                0  \n",
       "2019-12-17 00:00:00        1.113697            1.113697                0  \n",
       "2019-12-18 00:00:00        1.115138            1.115138                0  \n",
       "2019-12-19 00:00:00        1.111593            1.111593                0  "
      ]
     },
     "execution_count": 13,
     "metadata": {},
     "output_type": "execute_result"
    }
   ],
   "source": [
    "# Connect to the SQLite database\n",
    "conn = sqlite3.connect('data/db/currencies.db')\n",
    "\n",
    "# Read data from the table into a pandas DataFrame\n",
    "query = \"SELECT * FROM gbp5y LIMIT 5;\"  # Adjust for your table name\n",
    "df = pd.read_sql(query, conn)\n",
    "df.set_index('Datetime', inplace=True)\n",
    "\n",
    "# Display the DataFrame\n",
    "\n",
    "df"
   ]
  },
  {
   "cell_type": "markdown",
   "metadata": {},
   "source": [
    "Understanding collected data is kind of important. We can identify columns called:\n",
    "* Open: Price at the start of the trading period.\n",
    "* High: Highest price during the trading period.\n",
    "* Low: Lowest price during the trading period.\n",
    "* Close: Price at the end of the trading period.\n",
    "* Adj Close: Close price adjusted for events like splits or dividends (not relevant in this case).\n",
    "* Volume: Total amount of the asset traded during the period."
   ]
  },
  {
   "cell_type": "markdown",
   "metadata": {},
   "source": [
    "Display the first 3 row are commented out and was use only to check Data Frame and discover column names."
   ]
  },
  {
   "cell_type": "markdown",
   "metadata": {},
   "source": [
    "***"
   ]
  },
  {
   "cell_type": "markdown",
   "metadata": {},
   "source": [
    "### 2. Data Cleaning"
   ]
  },
  {
   "cell_type": "markdown",
   "metadata": {},
   "source": [
    "I chose to analyse OHLC data (Open, High, Low, Close) because it provides a comprehensive view of price movements, which is essential for identifying market trends and making informed trading decisions.\n",
    "\n",
    "I will omit other data, such as volume or adjusted close, as they are less relevant for understanding price action and trend analysis. After examining the data, it is clear that the Adj Close column contains the same values as the Close column, and the Volume column is empty."
   ]
  },
  {
   "cell_type": "markdown",
   "metadata": {},
   "source": [
    "Formatting Data Frames for easier manipulation "
   ]
  },
  {
   "cell_type": "code",
   "execution_count": 14,
   "metadata": {},
   "outputs": [
    {
     "data": {
      "text/html": [
       "<div>\n",
       "<style scoped>\n",
       "    .dataframe tbody tr th:only-of-type {\n",
       "        vertical-align: middle;\n",
       "    }\n",
       "\n",
       "    .dataframe tbody tr th {\n",
       "        vertical-align: top;\n",
       "    }\n",
       "\n",
       "    .dataframe thead th {\n",
       "        text-align: right;\n",
       "    }\n",
       "</style>\n",
       "<table border=\"1\" class=\"dataframe\">\n",
       "  <thead>\n",
       "    <tr style=\"text-align: right;\">\n",
       "      <th></th>\n",
       "      <th>USDGBP=X_Open</th>\n",
       "      <th>USDGBP=X_High</th>\n",
       "      <th>USDGBP=X_Low</th>\n",
       "      <th>USDGBP=X_Close</th>\n",
       "      <th>USDEUR=X_Open</th>\n",
       "      <th>USDEUR=X_High</th>\n",
       "      <th>USDEUR=X_Low</th>\n",
       "      <th>USDEUR=X_Close</th>\n",
       "    </tr>\n",
       "    <tr>\n",
       "      <th>Datetime</th>\n",
       "      <th></th>\n",
       "      <th></th>\n",
       "      <th></th>\n",
       "      <th></th>\n",
       "      <th></th>\n",
       "      <th></th>\n",
       "      <th></th>\n",
       "      <th></th>\n",
       "    </tr>\n",
       "  </thead>\n",
       "  <tbody>\n",
       "    <tr>\n",
       "      <th>2022-12-14 00:00:00</th>\n",
       "      <td>0.80948</td>\n",
       "      <td>0.81027</td>\n",
       "      <td>0.80921</td>\n",
       "      <td>0.80951</td>\n",
       "      <td>0.9410</td>\n",
       "      <td>0.9410</td>\n",
       "      <td>0.9398</td>\n",
       "      <td>0.9399</td>\n",
       "    </tr>\n",
       "    <tr>\n",
       "      <th>2022-12-14 01:00:00</th>\n",
       "      <td>0.80937</td>\n",
       "      <td>0.80991</td>\n",
       "      <td>0.80932</td>\n",
       "      <td>0.80953</td>\n",
       "      <td>0.9399</td>\n",
       "      <td>0.9403</td>\n",
       "      <td>0.9396</td>\n",
       "      <td>0.9401</td>\n",
       "    </tr>\n",
       "    <tr>\n",
       "      <th>2022-12-14 02:00:00</th>\n",
       "      <td>0.80959</td>\n",
       "      <td>0.81019</td>\n",
       "      <td>0.80930</td>\n",
       "      <td>0.80991</td>\n",
       "      <td>0.9401</td>\n",
       "      <td>0.9408</td>\n",
       "      <td>0.9398</td>\n",
       "      <td>0.9407</td>\n",
       "    </tr>\n",
       "  </tbody>\n",
       "</table>\n",
       "</div>"
      ],
      "text/plain": [
       "                     USDGBP=X_Open  USDGBP=X_High  USDGBP=X_Low  \\\n",
       "Datetime                                                          \n",
       "2022-12-14 00:00:00        0.80948        0.81027       0.80921   \n",
       "2022-12-14 01:00:00        0.80937        0.80991       0.80932   \n",
       "2022-12-14 02:00:00        0.80959        0.81019       0.80930   \n",
       "\n",
       "                     USDGBP=X_Close  USDEUR=X_Open  USDEUR=X_High  \\\n",
       "Datetime                                                            \n",
       "2022-12-14 00:00:00         0.80951         0.9410         0.9410   \n",
       "2022-12-14 01:00:00         0.80953         0.9399         0.9403   \n",
       "2022-12-14 02:00:00         0.80991         0.9401         0.9408   \n",
       "\n",
       "                     USDEUR=X_Low  USDEUR=X_Close  \n",
       "Datetime                                           \n",
       "2022-12-14 00:00:00        0.9398          0.9399  \n",
       "2022-12-14 01:00:00        0.9396          0.9401  \n",
       "2022-12-14 02:00:00        0.9398          0.9407  "
      ]
     },
     "execution_count": 14,
     "metadata": {},
     "output_type": "execute_result"
    }
   ],
   "source": [
    "# Columns to drop (targeting columns that have '_Adj Close' or '_Volume' suffixes)\n",
    "columnsToDrop = ['_Adj Close', '_Volume']\n",
    "\n",
    "# List of DataFrames for each asset\n",
    "dfColumnsDroppedList = [usd2y, gbp2y, eur2y, btc2y, usd5y, gbp5y, eur5y, btc5y, usd5d, gbp5d, eur5d, btc5d]\n",
    "\n",
    "# Iterate over each DataFrame and drop columns that contain '_Adj Close' or '_Volume'\n",
    "for df in dfColumnsDroppedList:\n",
    "    df.drop([col for col in df.columns if any(drop in col for drop in columnsToDrop)], axis=1, inplace=True)\n",
    "\n",
    "# Verify the result (Optional)\n",
    "usd2y.head(3)\n"
   ]
  },
  {
   "cell_type": "code",
   "execution_count": null,
   "metadata": {},
   "outputs": [
    {
     "data": {
      "text/html": [
       "<div>\n",
       "<style scoped>\n",
       "    .dataframe tbody tr th:only-of-type {\n",
       "        vertical-align: middle;\n",
       "    }\n",
       "\n",
       "    .dataframe tbody tr th {\n",
       "        vertical-align: top;\n",
       "    }\n",
       "\n",
       "    .dataframe thead th {\n",
       "        text-align: right;\n",
       "    }\n",
       "</style>\n",
       "<table border=\"1\" class=\"dataframe\">\n",
       "  <thead>\n",
       "    <tr style=\"text-align: right;\">\n",
       "      <th></th>\n",
       "      <th>USDEUR=X_Open</th>\n",
       "      <th>USDEUR=X_High</th>\n",
       "      <th>USDEUR=X_Low</th>\n",
       "      <th>USDEUR=X_Close</th>\n",
       "      <th>USDGBP=X_Open</th>\n",
       "      <th>USDGBP=X_High</th>\n",
       "      <th>USDGBP=X_Low</th>\n",
       "      <th>USDGBP=X_Close</th>\n",
       "      <th>EURUSD=X_Open_EUR</th>\n",
       "      <th>EURUSD=X_High_EUR</th>\n",
       "      <th>...</th>\n",
       "      <th>EURGBP=X_Low</th>\n",
       "      <th>EURGBP=X_Close</th>\n",
       "      <th>GBPUSD=X_Open</th>\n",
       "      <th>GBPUSD=X_High</th>\n",
       "      <th>GBPUSD=X_Low</th>\n",
       "      <th>GBPUSD=X_Close</th>\n",
       "      <th>EURUSD=X_Open_GBP</th>\n",
       "      <th>EURUSD=X_High_GBP</th>\n",
       "      <th>EURUSD=X_Low_GBP</th>\n",
       "      <th>EURUSD=X_Close_GBP</th>\n",
       "    </tr>\n",
       "    <tr>\n",
       "      <th>Datetime</th>\n",
       "      <th></th>\n",
       "      <th></th>\n",
       "      <th></th>\n",
       "      <th></th>\n",
       "      <th></th>\n",
       "      <th></th>\n",
       "      <th></th>\n",
       "      <th></th>\n",
       "      <th></th>\n",
       "      <th></th>\n",
       "      <th></th>\n",
       "      <th></th>\n",
       "      <th></th>\n",
       "      <th></th>\n",
       "      <th></th>\n",
       "      <th></th>\n",
       "      <th></th>\n",
       "      <th></th>\n",
       "      <th></th>\n",
       "      <th></th>\n",
       "      <th></th>\n",
       "    </tr>\n",
       "  </thead>\n",
       "  <tbody>\n",
       "    <tr>\n",
       "      <th>2019-12-13</th>\n",
       "      <td>0.89418</td>\n",
       "      <td>0.89937</td>\n",
       "      <td>0.89390</td>\n",
       "      <td>0.89397</td>\n",
       "      <td>0.74203</td>\n",
       "      <td>0.75134</td>\n",
       "      <td>0.74020</td>\n",
       "      <td>0.74210</td>\n",
       "      <td>1.118343</td>\n",
       "      <td>1.118693</td>\n",
       "      <td>...</td>\n",
       "      <td>0.8276</td>\n",
       "      <td>0.83004</td>\n",
       "      <td>1.347654</td>\n",
       "      <td>1.350986</td>\n",
       "      <td>1.330955</td>\n",
       "      <td>1.347527</td>\n",
       "      <td>1.118343</td>\n",
       "      <td>1.118693</td>\n",
       "      <td>1.111889</td>\n",
       "      <td>1.118606</td>\n",
       "    </tr>\n",
       "    <tr>\n",
       "      <th>2019-12-16</th>\n",
       "      <td>0.89886</td>\n",
       "      <td>0.89900</td>\n",
       "      <td>0.89623</td>\n",
       "      <td>0.89892</td>\n",
       "      <td>0.74877</td>\n",
       "      <td>0.75040</td>\n",
       "      <td>0.74532</td>\n",
       "      <td>0.74888</td>\n",
       "      <td>1.112520</td>\n",
       "      <td>1.115785</td>\n",
       "      <td>...</td>\n",
       "      <td>0.8304</td>\n",
       "      <td>0.83303</td>\n",
       "      <td>1.335524</td>\n",
       "      <td>1.341706</td>\n",
       "      <td>1.332623</td>\n",
       "      <td>1.335327</td>\n",
       "      <td>1.112520</td>\n",
       "      <td>1.115785</td>\n",
       "      <td>1.112347</td>\n",
       "      <td>1.112446</td>\n",
       "    </tr>\n",
       "    <tr>\n",
       "      <th>2019-12-17</th>\n",
       "      <td>0.89790</td>\n",
       "      <td>0.89840</td>\n",
       "      <td>0.89500</td>\n",
       "      <td>0.89791</td>\n",
       "      <td>0.75348</td>\n",
       "      <td>0.76312</td>\n",
       "      <td>0.75160</td>\n",
       "      <td>0.75344</td>\n",
       "      <td>1.113710</td>\n",
       "      <td>1.117319</td>\n",
       "      <td>...</td>\n",
       "      <td>0.8380</td>\n",
       "      <td>0.83905</td>\n",
       "      <td>1.327175</td>\n",
       "      <td>1.330495</td>\n",
       "      <td>1.310410</td>\n",
       "      <td>1.327246</td>\n",
       "      <td>1.113710</td>\n",
       "      <td>1.117319</td>\n",
       "      <td>1.113090</td>\n",
       "      <td>1.113697</td>\n",
       "    </tr>\n",
       "  </tbody>\n",
       "</table>\n",
       "<p>3 rows × 24 columns</p>\n",
       "</div>"
      ],
      "text/plain": [
       "            USDEUR=X_Open  USDEUR=X_High  USDEUR=X_Low  USDEUR=X_Close  \\\n",
       "Datetime                                                                 \n",
       "2019-12-13        0.89418        0.89937       0.89390         0.89397   \n",
       "2019-12-16        0.89886        0.89900       0.89623         0.89892   \n",
       "2019-12-17        0.89790        0.89840       0.89500         0.89791   \n",
       "\n",
       "            USDGBP=X_Open  USDGBP=X_High  USDGBP=X_Low  USDGBP=X_Close  \\\n",
       "Datetime                                                                 \n",
       "2019-12-13        0.74203        0.75134       0.74020         0.74210   \n",
       "2019-12-16        0.74877        0.75040       0.74532         0.74888   \n",
       "2019-12-17        0.75348        0.76312       0.75160         0.75344   \n",
       "\n",
       "            EURUSD=X_Open_EUR  EURUSD=X_High_EUR  ...  EURGBP=X_Low  \\\n",
       "Datetime                                          ...                 \n",
       "2019-12-13           1.118343           1.118693  ...        0.8276   \n",
       "2019-12-16           1.112520           1.115785  ...        0.8304   \n",
       "2019-12-17           1.113710           1.117319  ...        0.8380   \n",
       "\n",
       "            EURGBP=X_Close  GBPUSD=X_Open  GBPUSD=X_High  GBPUSD=X_Low  \\\n",
       "Datetime                                                                 \n",
       "2019-12-13         0.83004       1.347654       1.350986      1.330955   \n",
       "2019-12-16         0.83303       1.335524       1.341706      1.332623   \n",
       "2019-12-17         0.83905       1.327175       1.330495      1.310410   \n",
       "\n",
       "            GBPUSD=X_Close  EURUSD=X_Open_GBP  EURUSD=X_High_GBP  \\\n",
       "Datetime                                                           \n",
       "2019-12-13        1.347527           1.118343           1.118693   \n",
       "2019-12-16        1.335327           1.112520           1.115785   \n",
       "2019-12-17        1.327246           1.113710           1.117319   \n",
       "\n",
       "            EURUSD=X_Low_GBP  EURUSD=X_Close_GBP  \n",
       "Datetime                                          \n",
       "2019-12-13          1.111889            1.118606  \n",
       "2019-12-16          1.112347            1.112446  \n",
       "2019-12-17          1.113090            1.113697  \n",
       "\n",
       "[3 rows x 24 columns]"
      ]
     },
     "execution_count": 21,
     "metadata": {},
     "output_type": "execute_result"
    }
   ],
   "source": [
    "# Merge the DataFrames using 'Datetime' column and add suffixes\n",
    "mergedFiatCurrencies2y = usd2y.merge(eur2y, how='outer', on='Datetime', suffixes=('_USD', '_EUR')).merge(gbp2y, how='outer', on='Datetime', suffixes=('_EUR', '_GBP'))\n",
    "mergedFiatCurrencies5d = usd5d.merge(eur5d, how='outer', on='Datetime', suffixes=('_USD', '_EUR')).merge(gbp5d, how='outer', on='Datetime', suffixes=('_EUR', '_GBP'))\n",
    "mergedFiatCurrencies5y = usd5y.merge(eur5y, how='outer', on='Datetime', suffixes=('_USD', '_EUR')).merge(gbp5y, how='outer', on='Datetime', suffixes=('_EUR', '_GBP'))\n"
   ]
  },
  {
   "cell_type": "markdown",
   "metadata": {},
   "source": [
    "#### Fill missing values using forward fill (ffill) method"
   ]
  },
  {
   "cell_type": "code",
   "execution_count": 16,
   "metadata": {},
   "outputs": [],
   "source": [
    "# List of DataFrames\n",
    "dataframes = [mergedFiatCurrencies2y, mergedFiatCurrencies5y, mergedFiatCurrencies5d]\n",
    "\n",
    "# Forward fill missing values for each DataFrame in the list\n",
    "for df in dataframes:\n",
    "    df.ffill(inplace=True)\n"
   ]
  },
  {
   "cell_type": "markdown",
   "metadata": {},
   "source": [
    "#### Checking Datetime format if it is in expected form: '%Y-%m-%d %H:%M:%S'."
   ]
  },
  {
   "cell_type": "code",
   "execution_count": 17,
   "metadata": {},
   "outputs": [
    {
     "name": "stdout",
     "output_type": "stream",
     "text": [
      "The 'Datetime' index is correctly formatted as datetime64.\n",
      "Example of the format: 2022-12-14 00:00:00\n",
      "There is no action required.\n"
     ]
    }
   ],
   "source": [
    "# Check if 'Datetime' is in any level of the MultiIndex\n",
    "if 'Datetime' in mergedFiatCurrencies2y.index.names:\n",
    "    # Extract the 'Datetime' level from the MultiIndex\n",
    "    datetime_column = mergedFiatCurrencies2y.index.get_level_values('Datetime')\n",
    "    \n",
    "    # Check if the 'Datetime' index is in datetime64 format\n",
    "    if pd.api.types.is_datetime64_any_dtype(datetime_column):\n",
    "        # Display the format of the 'Datetime' index\n",
    "        datetime_format = datetime_column[0].strftime('%Y-%m-%d %H:%M:%S')  # You can adjust the format as needed\n",
    "        print(f\"The 'Datetime' index is correctly formatted as datetime64.\\nExample of the format: {datetime_format}\\nThere is no action required.\")\n",
    "    else:\n",
    "        print(\"The 'Datetime' index is not in datetime64 format.\\nPlease convert it.\")\n"
   ]
  },
  {
   "cell_type": "markdown",
   "metadata": {},
   "source": [
    "#### Normalize Bitcoin exchange rates"
   ]
  },
  {
   "cell_type": "code",
   "execution_count": 18,
   "metadata": {},
   "outputs": [],
   "source": [
    "# Normalizing the data\n",
    "\n",
    "# List of DataFrames to normalize\n",
    "btcDataFrames = [btc2y, btc5y, btc5d]\n",
    "\n",
    "# Normalize each DataFrame and store them in a list\n",
    "normalisedBtcFrames = [df.div(df.iloc[0]).mul(100) for df in btcDataFrames]\n",
    "\n",
    "#Fillin missing values\n",
    "normalisedBtcFrames = [df.ffill() for df in normalisedBtcFrames]\n",
    "\n",
    "# Assign normalised DataFrames to distinct variables\n",
    "normalisedbtc2y, normalisedbtc5y, normalisedbtc5d = normalisedBtcFrames[0], normalisedBtcFrames[1], normalisedBtcFrames[2]\n"
   ]
  }
 ],
 "metadata": {
  "kernelspec": {
   "display_name": "base",
   "language": "python",
   "name": "python3"
  },
  "language_info": {
   "codemirror_mode": {
    "name": "ipython",
    "version": 3
   },
   "file_extension": ".py",
   "mimetype": "text/x-python",
   "name": "python",
   "nbconvert_exporter": "python",
   "pygments_lexer": "ipython3",
   "version": "3.12.4"
  }
 },
 "nbformat": 4,
 "nbformat_minor": 2
}
