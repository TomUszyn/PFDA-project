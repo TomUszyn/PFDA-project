{
 "cells": [
  {
   "cell_type": "markdown",
   "metadata": {},
   "source": [
    "## Project: Analysing Currency Trends."
   ]
  },
  {
   "cell_type": "markdown",
   "metadata": {},
   "source": [
    "***"
   ]
  },
  {
   "cell_type": "markdown",
   "metadata": {},
   "source": [
    "### 1. Data Collection"
   ]
  },
  {
   "cell_type": "markdown",
   "metadata": {},
   "source": [
    "***"
   ]
  },
  {
   "cell_type": "markdown",
   "metadata": {},
   "source": [
    "Importing libraries."
   ]
  },
  {
   "cell_type": "code",
   "execution_count": 1,
   "metadata": {},
   "outputs": [],
   "source": [
    "import yfinance as yf\n",
    "import pandas as pd\n",
    "import sqlite3\n"
   ]
  },
  {
   "cell_type": "markdown",
   "metadata": {},
   "source": [
    "I'm getting data with a 60-minute interval covering 2 years, which is the maximum amount limited by Yahoo Finance. If I'm trying to get more data returned, \"The requested range must be within the last 730 days\"."
   ]
  },
  {
   "cell_type": "markdown",
   "metadata": {},
   "source": [
    "***"
   ]
  },
  {
   "cell_type": "markdown",
   "metadata": {},
   "source": [
    "#### Data related to the United States Dollar currency (USD represent by symbol **$**)."
   ]
  },
  {
   "cell_type": "markdown",
   "metadata": {},
   "source": [
    "Data are taken every hour for 2 years."
   ]
  },
  {
   "cell_type": "code",
   "execution_count": 2,
   "metadata": {},
   "outputs": [
    {
     "name": "stderr",
     "output_type": "stream",
     "text": [
      "[*********************100%***********************]  2 of 2 completed\n"
     ]
    }
   ],
   "source": [
    "# Download USDGBP and USDEUR exchange rates\n",
    "usd2y = yf.download(['USDGBP=X','USDEUR=X'], period='2y', interval='60m', group_by='ticker')\n",
    "# Display the first 3 rows\n",
    "#usd.head(3)"
   ]
  },
  {
   "cell_type": "markdown",
   "metadata": {},
   "source": [
    "Data are taken once a day for 5 years."
   ]
  },
  {
   "cell_type": "code",
   "execution_count": 3,
   "metadata": {},
   "outputs": [
    {
     "name": "stderr",
     "output_type": "stream",
     "text": [
      "[*********************100%***********************]  2 of 2 completed\n"
     ]
    }
   ],
   "source": [
    "# Download USDGBP and USDEUR exchange rates\n",
    "usd5y = yf.download(['USDGBP=X','USDEUR=X'], period='5y', interval='1d', group_by='ticker')\n",
    "# Display the first 3 rows\n",
    "#usd5y.head(3)"
   ]
  },
  {
   "cell_type": "markdown",
   "metadata": {},
   "source": [
    "Data are taken every 5 minutes for 5 days."
   ]
  },
  {
   "cell_type": "code",
   "execution_count": 4,
   "metadata": {},
   "outputs": [
    {
     "name": "stderr",
     "output_type": "stream",
     "text": [
      "[*********************100%***********************]  2 of 2 completed\n"
     ]
    }
   ],
   "source": [
    "# Download USDGBP and USDEUR exchange rates\n",
    "usd5d = yf.download(['USDGBP=X','USDEUR=X'], period='5d', interval='5m', group_by='ticker')\n",
    "# Display the first 3 rows\n",
    "#usd5d.head(3)"
   ]
  },
  {
   "cell_type": "markdown",
   "metadata": {},
   "source": [
    "***"
   ]
  },
  {
   "cell_type": "markdown",
   "metadata": {},
   "source": [
    "#### Data related to the Great British Pound (often referred to simply as the British Pounds) currency (GBP represent by symbol **£**)."
   ]
  },
  {
   "cell_type": "markdown",
   "metadata": {},
   "source": [
    "Data are taken every hour for 2 years."
   ]
  },
  {
   "cell_type": "code",
   "execution_count": 5,
   "metadata": {},
   "outputs": [
    {
     "name": "stderr",
     "output_type": "stream",
     "text": [
      "[*********************100%***********************]  2 of 2 completed\n"
     ]
    }
   ],
   "source": [
    "# Download GBPUSD and GBPEUR exchange rates\n",
    "gbp2y = yf.download(['GBPUSD=X', 'GBPEUR=X'], period='2y', interval='60m', group_by='ticker')\n",
    "# Display the first 3 rows\n",
    "#gbp2y.head(3)"
   ]
  },
  {
   "cell_type": "markdown",
   "metadata": {},
   "source": [
    "Data are taken once a day for 5 years."
   ]
  },
  {
   "cell_type": "code",
   "execution_count": 6,
   "metadata": {},
   "outputs": [
    {
     "name": "stderr",
     "output_type": "stream",
     "text": [
      "[*********************100%***********************]  2 of 2 completed\n"
     ]
    }
   ],
   "source": [
    "# Download GBPUSD and GBPEUR exchange rates\n",
    "gbp5y = yf.download(['GBPUSD=X', 'GBPEUR=X'], period='5y', interval='1d', group_by='ticker')\n",
    "# Display the first 3 rows\n",
    "#gbp5y.head(3)"
   ]
  },
  {
   "cell_type": "markdown",
   "metadata": {},
   "source": [
    "Data are taken every 5 minutes for 5 days."
   ]
  },
  {
   "cell_type": "code",
   "execution_count": 7,
   "metadata": {},
   "outputs": [
    {
     "name": "stderr",
     "output_type": "stream",
     "text": [
      "[*********************100%***********************]  2 of 2 completed\n"
     ]
    }
   ],
   "source": [
    "# Download GBPUSD and GBPEUR exchange rates\n",
    "gbp5d = yf.download(['GBPUSD=X', 'GBPEUR=X'], period='5d', interval='5m', group_by='ticker')\n",
    "# Display the first 3 rows\n",
    "#gbp5d.head(3)"
   ]
  },
  {
   "cell_type": "markdown",
   "metadata": {},
   "source": [
    "***"
   ]
  },
  {
   "cell_type": "markdown",
   "metadata": {},
   "source": [
    "#### Data related to official currency of the Eurozone knows as Euro currency (EUR: represent by **€**). "
   ]
  },
  {
   "cell_type": "markdown",
   "metadata": {},
   "source": [
    "Data are taken every hour for 2 years."
   ]
  },
  {
   "cell_type": "code",
   "execution_count": 8,
   "metadata": {},
   "outputs": [
    {
     "name": "stderr",
     "output_type": "stream",
     "text": [
      "[*********************100%***********************]  2 of 2 completed\n"
     ]
    }
   ],
   "source": [
    "# Download EURUSD and EURGBP exchange rates\n",
    "eur2y = yf.download(['EURUSD=X', 'EURGBP=X'], period='2y', interval='60m', group_by='ticker')\n",
    "# Display the first 3 rows\n",
    "#eur2y.head(3)\n"
   ]
  },
  {
   "cell_type": "markdown",
   "metadata": {},
   "source": [
    "Data are taken once a day for 5 years."
   ]
  },
  {
   "cell_type": "code",
   "execution_count": 9,
   "metadata": {},
   "outputs": [
    {
     "name": "stderr",
     "output_type": "stream",
     "text": [
      "[*********************100%***********************]  2 of 2 completed\n"
     ]
    }
   ],
   "source": [
    "# Download EURUSD and EURGBP exchange rates\n",
    "eur5y = yf.download(['EURUSD=X', 'EURGBP=X'], period='5y', interval='1d', group_by='ticker')\n",
    "# Display the first 3 rows\n",
    "#eur5y.head(3)\n"
   ]
  },
  {
   "cell_type": "markdown",
   "metadata": {},
   "source": [
    "Data are taken every 5 minutes for 5 days."
   ]
  },
  {
   "cell_type": "code",
   "execution_count": 10,
   "metadata": {},
   "outputs": [
    {
     "name": "stderr",
     "output_type": "stream",
     "text": [
      "[*********************100%***********************]  2 of 2 completed\n"
     ]
    }
   ],
   "source": [
    "# Download EURUSD and EURGBP exchange rates\n",
    "eur5d = yf.download(['EURUSD=X', 'EURGBP=X'], period='5d', interval='5m', group_by='ticker')\n",
    "# Display the first 3 rows\n",
    "#eur5d.head(3)\n"
   ]
  },
  {
   "cell_type": "markdown",
   "metadata": {},
   "source": [
    "***"
   ]
  },
  {
   "cell_type": "markdown",
   "metadata": {},
   "source": [
    "#### Data related to the Bitcoin cryptocurrency (BTC represented by symbol **₿**)"
   ]
  },
  {
   "cell_type": "markdown",
   "metadata": {},
   "source": [
    "Data are taken every hour for 2 years."
   ]
  },
  {
   "cell_type": "code",
   "execution_count": 11,
   "metadata": {},
   "outputs": [
    {
     "name": "stderr",
     "output_type": "stream",
     "text": [
      "[*********************100%***********************]  3 of 3 completed\n"
     ]
    },
    {
     "data": {
      "text/html": [
       "<div>\n",
       "<style scoped>\n",
       "    .dataframe tbody tr th:only-of-type {\n",
       "        vertical-align: middle;\n",
       "    }\n",
       "\n",
       "    .dataframe tbody tr th {\n",
       "        vertical-align: top;\n",
       "    }\n",
       "\n",
       "    .dataframe thead tr th {\n",
       "        text-align: left;\n",
       "    }\n",
       "\n",
       "    .dataframe thead tr:last-of-type th {\n",
       "        text-align: right;\n",
       "    }\n",
       "</style>\n",
       "<table border=\"1\" class=\"dataframe\">\n",
       "  <thead>\n",
       "    <tr>\n",
       "      <th>Ticker</th>\n",
       "      <th colspan=\"6\" halign=\"left\">BTC-USD</th>\n",
       "      <th colspan=\"6\" halign=\"left\">BTC-EUR</th>\n",
       "      <th colspan=\"6\" halign=\"left\">BTC-GBP</th>\n",
       "    </tr>\n",
       "    <tr>\n",
       "      <th>Price</th>\n",
       "      <th>Open</th>\n",
       "      <th>High</th>\n",
       "      <th>Low</th>\n",
       "      <th>Close</th>\n",
       "      <th>Adj Close</th>\n",
       "      <th>Volume</th>\n",
       "      <th>Open</th>\n",
       "      <th>High</th>\n",
       "      <th>Low</th>\n",
       "      <th>Close</th>\n",
       "      <th>Adj Close</th>\n",
       "      <th>Volume</th>\n",
       "      <th>Open</th>\n",
       "      <th>High</th>\n",
       "      <th>Low</th>\n",
       "      <th>Close</th>\n",
       "      <th>Adj Close</th>\n",
       "      <th>Volume</th>\n",
       "    </tr>\n",
       "    <tr>\n",
       "      <th>Datetime</th>\n",
       "      <th></th>\n",
       "      <th></th>\n",
       "      <th></th>\n",
       "      <th></th>\n",
       "      <th></th>\n",
       "      <th></th>\n",
       "      <th></th>\n",
       "      <th></th>\n",
       "      <th></th>\n",
       "      <th></th>\n",
       "      <th></th>\n",
       "      <th></th>\n",
       "      <th></th>\n",
       "      <th></th>\n",
       "      <th></th>\n",
       "      <th></th>\n",
       "      <th></th>\n",
       "      <th></th>\n",
       "    </tr>\n",
       "  </thead>\n",
       "  <tbody>\n",
       "    <tr>\n",
       "      <th>2022-12-14 01:00:00</th>\n",
       "      <td>17808.406250</td>\n",
       "      <td>17810.781250</td>\n",
       "      <td>17783.294922</td>\n",
       "      <td>17787.011719</td>\n",
       "      <td>17787.011719</td>\n",
       "      <td>0</td>\n",
       "      <td>16744.113281</td>\n",
       "      <td>16749.423828</td>\n",
       "      <td>16722.503906</td>\n",
       "      <td>16725.867188</td>\n",
       "      <td>16725.867188</td>\n",
       "      <td>0.0</td>\n",
       "      <td>14415.203125</td>\n",
       "      <td>14418.937500</td>\n",
       "      <td>14396.306641</td>\n",
       "      <td>14400.206055</td>\n",
       "      <td>14400.206055</td>\n",
       "      <td>0.0</td>\n",
       "    </tr>\n",
       "    <tr>\n",
       "      <th>2022-12-14 02:00:00</th>\n",
       "      <td>17787.605469</td>\n",
       "      <td>17798.296875</td>\n",
       "      <td>17765.650391</td>\n",
       "      <td>17798.296875</td>\n",
       "      <td>17798.296875</td>\n",
       "      <td>0</td>\n",
       "      <td>16725.144531</td>\n",
       "      <td>16743.048828</td>\n",
       "      <td>16705.644531</td>\n",
       "      <td>16743.048828</td>\n",
       "      <td>16743.048828</td>\n",
       "      <td>0.0</td>\n",
       "      <td>14400.560547</td>\n",
       "      <td>14411.860352</td>\n",
       "      <td>14381.706055</td>\n",
       "      <td>14411.860352</td>\n",
       "      <td>14411.860352</td>\n",
       "      <td>0.0</td>\n",
       "    </tr>\n",
       "    <tr>\n",
       "      <th>2022-12-14 03:00:00</th>\n",
       "      <td>17796.447266</td>\n",
       "      <td>17831.701172</td>\n",
       "      <td>17795.742188</td>\n",
       "      <td>17802.958984</td>\n",
       "      <td>17802.958984</td>\n",
       "      <td>15964160</td>\n",
       "      <td>16746.595703</td>\n",
       "      <td>16780.416016</td>\n",
       "      <td>16741.841797</td>\n",
       "      <td>16754.978516</td>\n",
       "      <td>16754.978516</td>\n",
       "      <td>30838784.0</td>\n",
       "      <td>14413.951172</td>\n",
       "      <td>14437.811523</td>\n",
       "      <td>14404.247070</td>\n",
       "      <td>14413.108398</td>\n",
       "      <td>14413.108398</td>\n",
       "      <td>13066240.0</td>\n",
       "    </tr>\n",
       "  </tbody>\n",
       "</table>\n",
       "</div>"
      ],
      "text/plain": [
       "Ticker                    BTC-USD                                            \\\n",
       "Price                        Open          High           Low         Close   \n",
       "Datetime                                                                      \n",
       "2022-12-14 01:00:00  17808.406250  17810.781250  17783.294922  17787.011719   \n",
       "2022-12-14 02:00:00  17787.605469  17798.296875  17765.650391  17798.296875   \n",
       "2022-12-14 03:00:00  17796.447266  17831.701172  17795.742188  17802.958984   \n",
       "\n",
       "Ticker                                            BTC-EUR                \\\n",
       "Price                   Adj Close    Volume          Open          High   \n",
       "Datetime                                                                  \n",
       "2022-12-14 01:00:00  17787.011719         0  16744.113281  16749.423828   \n",
       "2022-12-14 02:00:00  17798.296875         0  16725.144531  16743.048828   \n",
       "2022-12-14 03:00:00  17802.958984  15964160  16746.595703  16780.416016   \n",
       "\n",
       "Ticker                                                                     \\\n",
       "Price                         Low         Close     Adj Close      Volume   \n",
       "Datetime                                                                    \n",
       "2022-12-14 01:00:00  16722.503906  16725.867188  16725.867188         0.0   \n",
       "2022-12-14 02:00:00  16705.644531  16743.048828  16743.048828         0.0   \n",
       "2022-12-14 03:00:00  16741.841797  16754.978516  16754.978516  30838784.0   \n",
       "\n",
       "Ticker                    BTC-GBP                                            \\\n",
       "Price                        Open          High           Low         Close   \n",
       "Datetime                                                                      \n",
       "2022-12-14 01:00:00  14415.203125  14418.937500  14396.306641  14400.206055   \n",
       "2022-12-14 02:00:00  14400.560547  14411.860352  14381.706055  14411.860352   \n",
       "2022-12-14 03:00:00  14413.951172  14437.811523  14404.247070  14413.108398   \n",
       "\n",
       "Ticker                                         \n",
       "Price                   Adj Close      Volume  \n",
       "Datetime                                       \n",
       "2022-12-14 01:00:00  14400.206055         0.0  \n",
       "2022-12-14 02:00:00  14411.860352         0.0  \n",
       "2022-12-14 03:00:00  14413.108398  13066240.0  "
      ]
     },
     "execution_count": 11,
     "metadata": {},
     "output_type": "execute_result"
    }
   ],
   "source": [
    "# Dowlnoad BTC-USD, BTC-GBP and BTC-EUR exchange rates\n",
    "btc2y = yf.download(['BTC-USD', 'BTC-GBP', 'BTC-EUR'], period='2y', interval='60m', group_by='ticker')\n",
    "# Display the first 3 rows\n",
    "btc2y.head(3)\n"
   ]
  },
  {
   "cell_type": "markdown",
   "metadata": {},
   "source": [
    "Data are taken once a day for 5 years."
   ]
  },
  {
   "cell_type": "code",
   "execution_count": 12,
   "metadata": {},
   "outputs": [
    {
     "name": "stderr",
     "output_type": "stream",
     "text": [
      "[*********************100%***********************]  3 of 3 completed\n"
     ]
    }
   ],
   "source": [
    "# Dowlnoad BTC-USD, BTC-GBP and BTC-EUR exchange rates\n",
    "btc5y = yf.download(['BTC-USD', 'BTC-GBP', 'BTC-EUR'], period='5y', interval='1d', group_by='ticker')\n",
    "# Display the first 3 rows\n",
    "#btc5y.head(3)\n"
   ]
  },
  {
   "cell_type": "markdown",
   "metadata": {},
   "source": [
    "Data are taken every 5 minutes for 5 days."
   ]
  },
  {
   "cell_type": "code",
   "execution_count": 13,
   "metadata": {},
   "outputs": [
    {
     "name": "stderr",
     "output_type": "stream",
     "text": [
      "[*********************100%***********************]  3 of 3 completed\n"
     ]
    }
   ],
   "source": [
    "# Dowlnoad BTC-USD, BTC-GBP and BTC-EUR exchange rates\n",
    "btc5d = yf.download(['BTC-USD', 'BTC-GBP', 'BTC-EUR'], period='5d', interval='5m', group_by='ticker')\n",
    "# Display the first 3 rows\n",
    "#btc5d.head(3)\n"
   ]
  },
  {
   "cell_type": "markdown",
   "metadata": {},
   "source": [
    "Understanding collected data is kind of important. We can identify columns called:\n",
    "* Open: Price at the start of the trading period.\n",
    "* High: Highest price during the trading period.\n",
    "* Low: Lowest price during the trading period.\n",
    "* Close: Price at the end of the trading period.\n",
    "* Adj Close: Close price adjusted for events like splits or dividends (not relevant in this case).\n",
    "* Volume: Total amount of the asset traded during the period."
   ]
  },
  {
   "cell_type": "markdown",
   "metadata": {},
   "source": [
    "Display the first 3 row are commented out and was use only to check Data Frame and discover column names."
   ]
  },
  {
   "cell_type": "markdown",
   "metadata": {},
   "source": [
    "***"
   ]
  },
  {
   "cell_type": "markdown",
   "metadata": {},
   "source": [
    "### 2. Data Cleaning"
   ]
  },
  {
   "cell_type": "markdown",
   "metadata": {},
   "source": [
    "I chose to analyse OHLC data (Open, High, Low, Close) because it provides a comprehensive view of price movements, which is essential for identifying market trends and making informed trading decisions.\n",
    "\n",
    "I will omit other data, such as volume or adjusted close, as they are less relevant for understanding price action and trend analysis. After examining the data, it is clear that the Adj Close column contains the same values as the Close column, and the Volume column is empty."
   ]
  },
  {
   "cell_type": "markdown",
   "metadata": {},
   "source": [
    "Formatting Data Frames for easier manipulation "
   ]
  },
  {
   "cell_type": "code",
   "execution_count": 14,
   "metadata": {},
   "outputs": [],
   "source": [
    "# List of columns to drop for each currency and asset type\n",
    "columnsToDrop = {\n",
    "    'usd': [('USDGBP=X', 'Adj Close'), ('USDGBP=X', 'Volume'), ('USDEUR=X', 'Adj Close'), ('USDEUR=X', 'Volume')],\n",
    "    'gbp': [('GBPUSD=X', 'Adj Close'), ('GBPUSD=X', 'Volume'), ('GBPEUR=X', 'Adj Close'), ('GBPEUR=X', 'Volume')],\n",
    "    'eur': [('EURUSD=X', 'Adj Close'), ('EURUSD=X', 'Volume'), ('EURGBP=X', 'Adj Close'), ('EURGBP=X', 'Volume')],\n",
    "    'btc': [('BTC-USD', 'Adj Close'), ('BTC-USD', 'Volume'), ('BTC-GBP', 'Adj Close'), ('BTC-GBP', 'Volume'), ('BTC-EUR', 'Adj Close')]\n",
    "}\n",
    "\n",
    "# List of DataFrames for each asset\n",
    "dfColumnsDroppedList = {\n",
    "    'usd': [usd2y, usd5y, usd5d],\n",
    "    'gbp': [gbp2y, gbp5y, gbp5d],\n",
    "    'eur': [eur2y, eur5y, eur5d],\n",
    "    'btc': [btc2y, btc5y, btc5d]\n",
    "}\n",
    "\n",
    "# Iterate over each currency/asset and drop the relevant columns\n",
    "for asset_type in columnsToDrop.keys():\n",
    "    columns = columnsToDrop[asset_type]\n",
    "    dataframes = dfColumnsDroppedList[asset_type]\n",
    "    \n",
    "    for df in dataframes:\n",
    "        df.drop(columns=columns, inplace=True, errors='ignore')\n",
    "\n",
    "\n"
   ]
  },
  {
   "cell_type": "code",
   "execution_count": 15,
   "metadata": {},
   "outputs": [],
   "source": [
    "# Merge the DataFrames using 'Datetime' column and add suffixes\n",
    "mergedFiatCurrencies2y = usd2y.merge(eur2y, how='outer', on='Datetime', suffixes=('_USD', '_EUR')).merge(gbp2y, how='outer', on='Datetime', suffixes=('_EUR', '_GBP'))\n",
    "mergedFiatCurrencies5d = usd5d.merge(eur5d, how='outer', on='Datetime', suffixes=('_USD', '_EUR')).merge(gbp5d, how='outer', on='Datetime', suffixes=('_EUR', '_GBP'))\n",
    "mergedFiatCurrencies5y = usd5y.merge(eur5y, how='outer', left_index=True, right_index=True, suffixes=('_USD', '_EUR')) \\\n",
    "                              .merge(gbp5y, how='outer', left_index=True, right_index=True, suffixes=('_EUR', '_GBP'))\n",
    "                             \n"
   ]
  },
  {
   "cell_type": "markdown",
   "metadata": {},
   "source": [
    "#### Fill missing values using forward fill (ffill) method"
   ]
  },
  {
   "cell_type": "code",
   "execution_count": 16,
   "metadata": {},
   "outputs": [],
   "source": [
    "# List of DataFrames\n",
    "dataframes = [mergedFiatCurrencies2y, mergedFiatCurrencies5y, mergedFiatCurrencies5d]\n",
    "\n",
    "# Forward fill missing values for each DataFrame in the list\n",
    "for df in dataframes:\n",
    "    df.ffill(inplace=True)\n"
   ]
  },
  {
   "cell_type": "markdown",
   "metadata": {},
   "source": [
    "#### Checking Datetime format if it is in expected form: '%Y-%m-%d %H:%M:%S'."
   ]
  },
  {
   "cell_type": "code",
   "execution_count": 18,
   "metadata": {},
   "outputs": [
    {
     "name": "stdout",
     "output_type": "stream",
     "text": [
      "The 'Datetime' index is correctly formatted as datetime64.\n",
      "Example of the format: 2022-12-14 00:00:00\n",
      "There is no action required.\n"
     ]
    }
   ],
   "source": [
    "# Check if 'Datetime' is in any level of the MultiIndex\n",
    "if 'Datetime' in mergedFiatCurrencies2y.index.names:\n",
    "    # Extract the 'Datetime' level from the MultiIndex\n",
    "    datetime_column = mergedFiatCurrencies2y.index.get_level_values('Datetime')\n",
    "    \n",
    "    # Check if the 'Datetime' index is in datetime64 format\n",
    "    if pd.api.types.is_datetime64_any_dtype(datetime_column):\n",
    "        # Display the format of the 'Datetime' index\n",
    "        datetime_format = datetime_column[0].strftime('%Y-%m-%d %H:%M:%S')  # You can adjust the format as needed\n",
    "        print(f\"The 'Datetime' index is correctly formatted as datetime64.\\nExample of the format: {datetime_format}\\nThere is no action required.\")\n",
    "    else:\n",
    "        print(\"The 'Datetime' index is not in datetime64 format.\\nPlease convert it.\")\n"
   ]
  },
  {
   "cell_type": "markdown",
   "metadata": {},
   "source": [
    "#### Saving Clean and Formatted DataFrames to CSV Files"
   ]
  },
  {
   "cell_type": "code",
   "execution_count": 19,
   "metadata": {},
   "outputs": [
    {
     "name": "stdout",
     "output_type": "stream",
     "text": [
      "Data merged and saved to 'mergedFiatCurrencies2y.csv'\n",
      "Data merged and saved to 'mergedFiatCurrencies5y.csv'\n",
      "Data merged and saved to 'mergedFiatCurrencies5d.csv'\n"
     ]
    }
   ],
   "source": [
    "# List of DataFrames and corresponding filenames\n",
    "dataframes = [mergedFiatCurrencies2y, mergedFiatCurrencies5y, mergedFiatCurrencies5d]\n",
    "filenames = ['mergedFiatCurrencies2y.csv', 'mergedFiatCurrencies5y.csv', 'mergedFiatCurrencies5d.csv']\n",
    "\n",
    "# Save each DataFrame to a CSV file\n",
    "for df, filename in zip(dataframes, filenames):\n",
    "    df.to_csv(f'data/csv/{filename}', index=True)\n",
    "    print(f\"Data merged and saved to '{filename}'\")\n"
   ]
  },
  {
   "cell_type": "code",
   "execution_count": 21,
   "metadata": {},
   "outputs": [],
   "source": [
    "# Normalizing the data\n",
    "\n",
    "# List of DataFrames to normalize\n",
    "btcDataFrames = [btc2y, btc5y, btc5d]\n",
    "\n",
    "# Normalize each DataFrame and store them in a list\n",
    "normalisedBtcFrames = [df.div(df.iloc[0]).mul(100) for df in btcDataFrames]\n",
    "\n",
    "#Fillin missing values\n",
    "normalisedBtcFrames = [df.ffill() for df in normalisedBtcFrames]\n",
    "\n",
    "# Assign normalized DataFrames to distinct variables\n",
    "normalizedbtc2y, normalizedbtc5y, normalizedbtc5d = normalisedBtcFrames[0], normalisedBtcFrames[1], normalisedBtcFrames[2]\n",
    "\n"
   ]
  },
  {
   "cell_type": "code",
   "execution_count": 22,
   "metadata": {},
   "outputs": [],
   "source": [
    "# Saving normalized data to a CSV files\n",
    "normalizedbtc2y.to_csv('data/csv/normalizedbtc2y.csv', index=True)\n",
    "normalizedbtc5y.to_csv('data/csv/normalizedbtc5y.csv', index=True)\n",
    "normalizedbtc5d.to_csv('data/csv/normalizedbtc5d.csv', index=True)"
   ]
  },
  {
   "cell_type": "code",
   "execution_count": 23,
   "metadata": {},
   "outputs": [
    {
     "name": "stdout",
     "output_type": "stream",
     "text": [
      "Data successfully written to SQLite database!\n"
     ]
    }
   ],
   "source": [
    "# Connect to SQLite database (creates file if it doesn't exist)\n",
    "conn = sqlite3.connect('data/db/currencies.db')\n",
    "\n",
    "# List of DataFrames and their corresponding table names\n",
    "dataframes = [(mergedFiatCurrencies2y, 'fiatcurrencies2y'), \n",
    "              (mergedFiatCurrencies5y, 'fiatcurrencies5y'), \n",
    "              (mergedFiatCurrencies5d, 'fiatcurrencies5d')]\n",
    "\n",
    "# Loop to write each DataFrame to the SQLite database\n",
    "for df, table_name in dataframes:\n",
    "    df.to_sql(table_name, conn, if_exists='replace', index=True)\n",
    "\n",
    "# Close the connection to SQLite\n",
    "conn.close()\n",
    "\n",
    "print(\"Data successfully written to SQLite database!\")\n"
   ]
  },
  {
   "cell_type": "code",
   "execution_count": 24,
   "metadata": {},
   "outputs": [
    {
     "name": "stdout",
     "output_type": "stream",
     "text": [
      "Tables in the database:\n",
      "fiatcurrencies2y\n",
      "fiatcurrencies5y\n",
      "fiatcurrencies5d\n"
     ]
    }
   ],
   "source": [
    "# Connect to the SQLite database\n",
    "conn = sqlite3.connect('data/db/currencies.db')\n",
    "cursor = conn.cursor()\n",
    "\n",
    "# Query to list tables\n",
    "cursor.execute(\"SELECT name FROM sqlite_master WHERE type='table';\")\n",
    "tables = cursor.fetchall()\n",
    "\n",
    "# Print the tables\n",
    "print(\"Tables in the database:\")\n",
    "for table in tables:\n",
    "    print(table[0])\n",
    "\n",
    "# Close the connection\n",
    "conn.close()"
   ]
  },
  {
   "cell_type": "code",
   "execution_count": 25,
   "metadata": {},
   "outputs": [
    {
     "data": {
      "text/html": [
       "<div>\n",
       "<style scoped>\n",
       "    .dataframe tbody tr th:only-of-type {\n",
       "        vertical-align: middle;\n",
       "    }\n",
       "\n",
       "    .dataframe tbody tr th {\n",
       "        vertical-align: top;\n",
       "    }\n",
       "\n",
       "    .dataframe thead th {\n",
       "        text-align: right;\n",
       "    }\n",
       "</style>\n",
       "<table border=\"1\" class=\"dataframe\">\n",
       "  <thead>\n",
       "    <tr style=\"text-align: right;\">\n",
       "      <th></th>\n",
       "      <th>Datetime</th>\n",
       "      <th>('USDEUR=X', 'Open')</th>\n",
       "      <th>('USDEUR=X', 'High')</th>\n",
       "      <th>('USDEUR=X', 'Low')</th>\n",
       "      <th>('USDEUR=X', 'Close')</th>\n",
       "      <th>('USDGBP=X', 'Open')</th>\n",
       "      <th>('USDGBP=X', 'High')</th>\n",
       "      <th>('USDGBP=X', 'Low')</th>\n",
       "      <th>('USDGBP=X', 'Close')</th>\n",
       "      <th>('EURUSD=X', 'Open')</th>\n",
       "      <th>...</th>\n",
       "      <th>('EURGBP=X', 'Low')</th>\n",
       "      <th>('EURGBP=X', 'Close')</th>\n",
       "      <th>('GBPEUR=X', 'Open')</th>\n",
       "      <th>('GBPEUR=X', 'High')</th>\n",
       "      <th>('GBPEUR=X', 'Low')</th>\n",
       "      <th>('GBPEUR=X', 'Close')</th>\n",
       "      <th>('GBPUSD=X', 'Open')</th>\n",
       "      <th>('GBPUSD=X', 'High')</th>\n",
       "      <th>('GBPUSD=X', 'Low')</th>\n",
       "      <th>('GBPUSD=X', 'Close')</th>\n",
       "    </tr>\n",
       "  </thead>\n",
       "  <tbody>\n",
       "    <tr>\n",
       "      <th>0</th>\n",
       "      <td>2022-12-14 00:00:00</td>\n",
       "      <td>0.9410</td>\n",
       "      <td>0.9410</td>\n",
       "      <td>0.9398</td>\n",
       "      <td>0.9399</td>\n",
       "      <td>0.80948</td>\n",
       "      <td>0.81027</td>\n",
       "      <td>0.80921</td>\n",
       "      <td>0.80951</td>\n",
       "      <td>1.062699</td>\n",
       "      <td>...</td>\n",
       "      <td>0.8597</td>\n",
       "      <td>0.86087</td>\n",
       "      <td>1.16269</td>\n",
       "      <td>1.16270</td>\n",
       "      <td>1.1605</td>\n",
       "      <td>1.16135</td>\n",
       "      <td>1.235361</td>\n",
       "      <td>1.235773</td>\n",
       "      <td>1.234156</td>\n",
       "      <td>1.235315</td>\n",
       "    </tr>\n",
       "    <tr>\n",
       "      <th>1</th>\n",
       "      <td>2022-12-14 01:00:00</td>\n",
       "      <td>0.9399</td>\n",
       "      <td>0.9403</td>\n",
       "      <td>0.9396</td>\n",
       "      <td>0.9401</td>\n",
       "      <td>0.80937</td>\n",
       "      <td>0.80991</td>\n",
       "      <td>0.80932</td>\n",
       "      <td>0.80953</td>\n",
       "      <td>1.063943</td>\n",
       "      <td>...</td>\n",
       "      <td>0.8605</td>\n",
       "      <td>0.86095</td>\n",
       "      <td>1.16137</td>\n",
       "      <td>1.16171</td>\n",
       "      <td>1.1607</td>\n",
       "      <td>1.16121</td>\n",
       "      <td>1.235529</td>\n",
       "      <td>1.235605</td>\n",
       "      <td>1.234705</td>\n",
       "      <td>1.235285</td>\n",
       "    </tr>\n",
       "    <tr>\n",
       "      <th>2</th>\n",
       "      <td>2022-12-14 02:00:00</td>\n",
       "      <td>0.9401</td>\n",
       "      <td>0.9408</td>\n",
       "      <td>0.9398</td>\n",
       "      <td>0.9407</td>\n",
       "      <td>0.80959</td>\n",
       "      <td>0.81019</td>\n",
       "      <td>0.80930</td>\n",
       "      <td>0.80991</td>\n",
       "      <td>1.063717</td>\n",
       "      <td>...</td>\n",
       "      <td>0.8604</td>\n",
       "      <td>0.86066</td>\n",
       "      <td>1.16137</td>\n",
       "      <td>1.16183</td>\n",
       "      <td>1.1609</td>\n",
       "      <td>1.16161</td>\n",
       "      <td>1.235193</td>\n",
       "      <td>1.235636</td>\n",
       "      <td>1.234278</td>\n",
       "      <td>1.234705</td>\n",
       "    </tr>\n",
       "    <tr>\n",
       "      <th>3</th>\n",
       "      <td>2022-12-14 03:00:00</td>\n",
       "      <td>0.9407</td>\n",
       "      <td>0.9410</td>\n",
       "      <td>0.9403</td>\n",
       "      <td>0.9409</td>\n",
       "      <td>0.80980</td>\n",
       "      <td>0.80986</td>\n",
       "      <td>0.80927</td>\n",
       "      <td>0.80953</td>\n",
       "      <td>1.063038</td>\n",
       "      <td>...</td>\n",
       "      <td>0.8599</td>\n",
       "      <td>0.86019</td>\n",
       "      <td>1.16179</td>\n",
       "      <td>1.16259</td>\n",
       "      <td>1.1614</td>\n",
       "      <td>1.16224</td>\n",
       "      <td>1.234873</td>\n",
       "      <td>1.235682</td>\n",
       "      <td>1.234781</td>\n",
       "      <td>1.235285</td>\n",
       "    </tr>\n",
       "    <tr>\n",
       "      <th>4</th>\n",
       "      <td>2022-12-14 04:00:00</td>\n",
       "      <td>0.9406</td>\n",
       "      <td>0.9413</td>\n",
       "      <td>0.9406</td>\n",
       "      <td>0.9410</td>\n",
       "      <td>0.80972</td>\n",
       "      <td>0.81020</td>\n",
       "      <td>0.80931</td>\n",
       "      <td>0.80977</td>\n",
       "      <td>1.063151</td>\n",
       "      <td>...</td>\n",
       "      <td>0.8598</td>\n",
       "      <td>0.86033</td>\n",
       "      <td>1.16234</td>\n",
       "      <td>1.16268</td>\n",
       "      <td>1.1617</td>\n",
       "      <td>1.16215</td>\n",
       "      <td>1.234995</td>\n",
       "      <td>1.235620</td>\n",
       "      <td>1.234263</td>\n",
       "      <td>1.234919</td>\n",
       "    </tr>\n",
       "  </tbody>\n",
       "</table>\n",
       "<p>5 rows × 25 columns</p>\n",
       "</div>"
      ],
      "text/plain": [
       "              Datetime  ('USDEUR=X', 'Open')  ('USDEUR=X', 'High')  \\\n",
       "0  2022-12-14 00:00:00                0.9410                0.9410   \n",
       "1  2022-12-14 01:00:00                0.9399                0.9403   \n",
       "2  2022-12-14 02:00:00                0.9401                0.9408   \n",
       "3  2022-12-14 03:00:00                0.9407                0.9410   \n",
       "4  2022-12-14 04:00:00                0.9406                0.9413   \n",
       "\n",
       "   ('USDEUR=X', 'Low')  ('USDEUR=X', 'Close')  ('USDGBP=X', 'Open')  \\\n",
       "0               0.9398                 0.9399               0.80948   \n",
       "1               0.9396                 0.9401               0.80937   \n",
       "2               0.9398                 0.9407               0.80959   \n",
       "3               0.9403                 0.9409               0.80980   \n",
       "4               0.9406                 0.9410               0.80972   \n",
       "\n",
       "   ('USDGBP=X', 'High')  ('USDGBP=X', 'Low')  ('USDGBP=X', 'Close')  \\\n",
       "0               0.81027              0.80921                0.80951   \n",
       "1               0.80991              0.80932                0.80953   \n",
       "2               0.81019              0.80930                0.80991   \n",
       "3               0.80986              0.80927                0.80953   \n",
       "4               0.81020              0.80931                0.80977   \n",
       "\n",
       "   ('EURUSD=X', 'Open')  ...  ('EURGBP=X', 'Low')  ('EURGBP=X', 'Close')  \\\n",
       "0              1.062699  ...               0.8597                0.86087   \n",
       "1              1.063943  ...               0.8605                0.86095   \n",
       "2              1.063717  ...               0.8604                0.86066   \n",
       "3              1.063038  ...               0.8599                0.86019   \n",
       "4              1.063151  ...               0.8598                0.86033   \n",
       "\n",
       "   ('GBPEUR=X', 'Open')  ('GBPEUR=X', 'High')  ('GBPEUR=X', 'Low')  \\\n",
       "0               1.16269               1.16270               1.1605   \n",
       "1               1.16137               1.16171               1.1607   \n",
       "2               1.16137               1.16183               1.1609   \n",
       "3               1.16179               1.16259               1.1614   \n",
       "4               1.16234               1.16268               1.1617   \n",
       "\n",
       "   ('GBPEUR=X', 'Close')  ('GBPUSD=X', 'Open')  ('GBPUSD=X', 'High')  \\\n",
       "0                1.16135              1.235361              1.235773   \n",
       "1                1.16121              1.235529              1.235605   \n",
       "2                1.16161              1.235193              1.235636   \n",
       "3                1.16224              1.234873              1.235682   \n",
       "4                1.16215              1.234995              1.235620   \n",
       "\n",
       "   ('GBPUSD=X', 'Low')  ('GBPUSD=X', 'Close')  \n",
       "0             1.234156               1.235315  \n",
       "1             1.234705               1.235285  \n",
       "2             1.234278               1.234705  \n",
       "3             1.234781               1.235285  \n",
       "4             1.234263               1.234919  \n",
       "\n",
       "[5 rows x 25 columns]"
      ]
     },
     "execution_count": 25,
     "metadata": {},
     "output_type": "execute_result"
    }
   ],
   "source": [
    "# Connect to the SQLite database\n",
    "conn = sqlite3.connect('data/db/currencies.db')\n",
    "\n",
    "# Read data from the table into a pandas DataFrame\n",
    "query = \"SELECT * FROM fiatcurrencies2y LIMIT 5;\"  # Adjust for your table name\n",
    "df = pd.read_sql(query, conn)\n",
    "\n",
    "# Display the DataFrame\n",
    "df"
   ]
  }
 ],
 "metadata": {
  "kernelspec": {
   "display_name": "base",
   "language": "python",
   "name": "python3"
  },
  "language_info": {
   "codemirror_mode": {
    "name": "ipython",
    "version": 3
   },
   "file_extension": ".py",
   "mimetype": "text/x-python",
   "name": "python",
   "nbconvert_exporter": "python",
   "pygments_lexer": "ipython3",
   "version": "3.12.4"
  }
 },
 "nbformat": 4,
 "nbformat_minor": 2
}
